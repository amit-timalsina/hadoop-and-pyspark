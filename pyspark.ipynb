{
 "cells": [
  {
   "cell_type": "code",
   "execution_count": null,
   "metadata": {},
   "outputs": [],
   "source": []
  },
  {
   "cell_type": "markdown",
   "metadata": {
    "id": "EK2ZnumcKlV4"
   },
   "source": [
    "Dependencies to install:\n",
    "\n",
    "1) Java 8\n",
    "\n",
    "2) Apache Spark with hadoop and\n",
    "\n",
    "3) Findspark (used to locate the spark in the system)\n"
   ]
  },
  {
   "cell_type": "code",
   "execution_count": null,
   "metadata": {
    "id": "a8nmOGaEKZmV"
   },
   "outputs": [],
   "source": [
    "!apt-get install openjdk-8-jdk-headless -qq > /dev/null\n",
    "!wget -q http://archive.apache.org/dist/spark/spark-3.1.1/spark-3.1.1-bin-hadoop3.2.tgz\n",
    "!tar xf spark-3.1.1-bin-hadoop3.2.tgz\n",
    "!pip install -q findspark\n"
   ]
  },
  {
   "cell_type": "code",
   "execution_count": null,
   "metadata": {
    "id": "W9gO3L6-K5tO"
   },
   "outputs": [],
   "source": [
    "import os\n",
    "os.environ[\"JAVA_HOME\"] = \"/usr/lib/jvm/java-8-openjdk-amd64\"\n",
    "os.environ[\"SPARK_HOME\"] = \"/content/spark-3.1.1-bin-hadoop3.2\""
   ]
  },
  {
   "cell_type": "code",
   "execution_count": null,
   "metadata": {
    "colab": {
     "base_uri": "https://localhost:8080/"
    },
    "id": "Fy_mx39GK6a8",
    "outputId": "ad618b78-5a46-4ea6-8d70-bb5386c9e06c"
   },
   "outputs": [
    {
     "data": {
      "application/vnd.code.notebook.stdout": [
       "sample_data  spark-3.1.1-bin-hadoop3.2\tspark-3.1.1-bin-hadoop3.2.tgz\n"
      ]
     },
     "output_type": "unknown"
    }
   ],
   "source": [
    "!ls"
   ]
  },
  {
   "cell_type": "code",
   "execution_count": null,
   "metadata": {
    "colab": {
     "base_uri": "https://localhost:8080/",
     "height": 220
    },
    "id": "TEY1EPkSK8pI",
    "outputId": "a064cd34-880e-47a3-f58b-d8dbd0565e93"
   },
   "outputs": [
    {
     "data": {
      "text/html": [
       "\n",
       "            <div>\n",
       "                <p><b>SparkSession - in-memory</b></p>\n",
       "                \n",
       "        <div>\n",
       "            <p><b>SparkContext</b></p>\n",
       "\n",
       "            <p><a href=\"http://db39daa573cc:4040\">Spark UI</a></p>\n",
       "\n",
       "            <dl>\n",
       "              <dt>Version</dt>\n",
       "                <dd><code>v3.1.1</code></dd>\n",
       "              <dt>Master</dt>\n",
       "                <dd><code>local[*]</code></dd>\n",
       "              <dt>AppName</dt>\n",
       "                <dd><code>pyspark-shell</code></dd>\n",
       "            </dl>\n",
       "        </div>\n",
       "        \n",
       "            </div>\n",
       "        "
      ],
      "text/plain": [
       "<pyspark.sql.session.SparkSession at 0x7f8c5071e190>"
      ]
     },
     "output_type": "unknown"
    }
   ],
   "source": [
    "import findspark\n",
    "findspark.init()\n",
    "from pyspark.sql import SparkSession\n",
    "spark = SparkSession.builder.master(\"local[*]\").getOrCreate()\n",
    "spark.conf.set(\"spark.sql.repl.eagerEval.enabled\", True) # Property used to format output tables better\n",
    "spark\n"
   ]
  },
  {
   "cell_type": "code",
   "execution_count": null,
   "metadata": {
    "id": "dHCvGCZyK_yO"
   },
   "outputs": [],
   "source": [
    "# will be working on cars dataset\n",
    "\n",
    "# link : https://jacobceles.github.io/knowledge_repo/colab_and_pyspark/cars.csv\n"
   ]
  },
  {
   "cell_type": "code",
   "execution_count": null,
   "metadata": {
    "colab": {
     "base_uri": "https://localhost:8080/"
    },
    "id": "civx8PWdLbq8",
    "outputId": "5a3acb0e-5a54-4500-d2b2-1016dc2d149a"
   },
   "outputs": [
    {
     "data": {
      "application/vnd.code.notebook.stdout": [
       "cars.csv  sample_data  spark-3.1.1-bin-hadoop3.2  spark-3.1.1-bin-hadoop3.2.tgz\n"
      ]
     },
     "output_type": "unknown"
    }
   ],
   "source": [
    "!ls"
   ]
  },
  {
   "cell_type": "code",
   "execution_count": null,
   "metadata": {
    "colab": {
     "base_uri": "https://localhost:8080/"
    },
    "id": "4EZrpReTNNVG",
    "outputId": "1bca3589-3a51-4db6-8766-aacde32a6e2a"
   },
   "outputs": [
    {
     "data": {
      "application/vnd.code.notebook.stdout": [
       "+--------------------+----+---------+------------+----------+------+------------+-----+------+\n",
       "|                 Car| MPG|Cylinders|Displacement|Horsepower|Weight|Acceleration|Model|Origin|\n",
       "+--------------------+----+---------+------------+----------+------+------------+-----+------+\n",
       "|Chevrolet Chevell...|18.0|        8|       307.0|     130.0| 3504.|        12.0|   70|    US|\n",
       "|   Buick Skylark 320|15.0|        8|       350.0|     165.0| 3693.|        11.5|   70|    US|\n",
       "|  Plymouth Satellite|18.0|        8|       318.0|     150.0| 3436.|        11.0|   70|    US|\n",
       "|       AMC Rebel SST|16.0|        8|       304.0|     150.0| 3433.|        12.0|   70|    US|\n",
       "|         Ford Torino|17.0|        8|       302.0|     140.0| 3449.|        10.5|   70|    US|\n",
       "+--------------------+----+---------+------------+----------+------+------------+-----+------+\n",
       "only showing top 5 rows\n",
       "\n"
      ]
     },
     "output_type": "unknown"
    }
   ],
   "source": [
    "# header=True means the first row is a header \n",
    "# sep=';' means the column are seperated using ''\n",
    "\n",
    "df = spark.read.csv('cars.csv', header=True, sep=\";\")\n",
    "df.show(5)\n",
    "\n"
   ]
  },
  {
   "cell_type": "markdown",
   "metadata": {
    "id": "4qoLkRExN-YJ"
   },
   "source": [
    "Viewing the Dataframe\n",
    "There are a couple of ways to view your dataframe(DF) in PySpark:\n",
    "\n",
    "\n",
    "\n",
    "\n",
    "\n",
    "\n",
    "\n",
    "1.   df.take(5) will return a list of five Row objects.\n",
    "2.   df.collect() will get all of the data from the entire.  DataFrame. Be really careful when using it, because if you have a large data set, you can easily crash the driver node.\n",
    "3. df.show() is the most commonly used method to view a dataframe. There are a few parameters we can pass to this method, like the number of rows and truncaiton. For example, df.show(5, False) or df.show(5, truncate=False) will show the entire data wihtout any truncation.\n",
    "\n",
    "4. df.limit(5) will return a new DataFrame by taking the first n rows. As spark is distributed in nature, there is no guarantee that df.limit() will give you the same results each time.\n",
    "\n",
    "\n",
    "\n",
    "\n",
    "\n",
    "\n",
    "\n",
    "\n",
    "\n"
   ]
  },
  {
   "cell_type": "code",
   "execution_count": null,
   "metadata": {
    "colab": {
     "base_uri": "https://localhost:8080/"
    },
    "id": "qcHMHg0iNz8W",
    "outputId": "80d8065b-44f2-425d-cf73-cc17cb36a846"
   },
   "outputs": [
    {
     "data": {
      "application/vnd.code.notebook.stdout": [
       "+-------------------------+----+---------+------------+----------+------+------------+-----+------+\n",
       "|Car                      |MPG |Cylinders|Displacement|Horsepower|Weight|Acceleration|Model|Origin|\n",
       "+-------------------------+----+---------+------------+----------+------+------------+-----+------+\n",
       "|Chevrolet Chevelle Malibu|18.0|8        |307.0       |130.0     |3504  |12.0        |70   |US    |\n",
       "|Buick Skylark 320        |15.0|8        |350.0       |165.0     |3693  |11.5        |70   |US    |\n",
       "|Plymouth Satellite       |18.0|8        |318.0       |150.0     |3436  |11.0        |70   |US    |\n",
       "|AMC Rebel SST            |16.0|8        |304.0       |150.0     |3433  |12.0        |70   |US    |\n",
       "|Ford Torino              |17.0|8        |302.0       |140.0     |3449  |10.5        |70   |US    |\n",
       "+-------------------------+----+---------+------------+----------+------+------------+-----+------+\n",
       "only showing top 5 rows\n",
       "\n"
      ]
     },
     "output_type": "unknown"
    }
   ],
   "source": [
    "df.show(5, truncate=False)"
   ]
  },
  {
   "cell_type": "code",
   "execution_count": null,
   "metadata": {
    "colab": {
     "base_uri": "https://localhost:8080/",
     "height": 161
    },
    "id": "7QHER6oPOac2",
    "outputId": "16bf9275-bd99-4576-f35f-72e01e293887"
   },
   "outputs": [
    {
     "data": {
      "text/html": [
       "<table border='1'>\n",
       "<tr><th>Car</th><th>MPG</th><th>Cylinders</th><th>Displacement</th><th>Horsepower</th><th>Weight</th><th>Acceleration</th><th>Model</th><th>Origin</th></tr>\n",
       "<tr><td>Chevrolet Chevell...</td><td>18.0</td><td>8</td><td>307.0</td><td>130.0</td><td>3504</td><td>12.0</td><td>70</td><td>US</td></tr>\n",
       "<tr><td>Buick Skylark 320</td><td>15.0</td><td>8</td><td>350.0</td><td>165.0</td><td>3693</td><td>11.5</td><td>70</td><td>US</td></tr>\n",
       "<tr><td>Plymouth Satellite</td><td>18.0</td><td>8</td><td>318.0</td><td>150.0</td><td>3436</td><td>11.0</td><td>70</td><td>US</td></tr>\n",
       "<tr><td>AMC Rebel SST</td><td>16.0</td><td>8</td><td>304.0</td><td>150.0</td><td>3433</td><td>12.0</td><td>70</td><td>US</td></tr>\n",
       "<tr><td>Ford Torino</td><td>17.0</td><td>8</td><td>302.0</td><td>140.0</td><td>3449</td><td>10.5</td><td>70</td><td>US</td></tr>\n",
       "</table>\n"
      ],
      "text/plain": [
       "+--------------------+----+---------+------------+----------+------+------------+-----+------+\n",
       "|                 Car| MPG|Cylinders|Displacement|Horsepower|Weight|Acceleration|Model|Origin|\n",
       "+--------------------+----+---------+------------+----------+------+------------+-----+------+\n",
       "|Chevrolet Chevell...|18.0|        8|       307.0|     130.0|  3504|        12.0|   70|    US|\n",
       "|   Buick Skylark 320|15.0|        8|       350.0|     165.0|  3693|        11.5|   70|    US|\n",
       "|  Plymouth Satellite|18.0|        8|       318.0|     150.0|  3436|        11.0|   70|    US|\n",
       "|       AMC Rebel SST|16.0|        8|       304.0|     150.0|  3433|        12.0|   70|    US|\n",
       "|         Ford Torino|17.0|        8|       302.0|     140.0|  3449|        10.5|   70|    US|\n",
       "+--------------------+----+---------+------------+----------+------+------------+-----+------+"
      ]
     },
     "output_type": "unknown"
    }
   ],
   "source": [
    "df.limit(5)"
   ]
  },
  {
   "cell_type": "markdown",
   "metadata": {
    "id": "OQzGI0OqOide"
   },
   "source": [
    "Viewing Dataframe Columns"
   ]
  },
  {
   "cell_type": "code",
   "execution_count": null,
   "metadata": {
    "colab": {
     "base_uri": "https://localhost:8080/"
    },
    "id": "mkVwrxKHOdRj",
    "outputId": "d6bf9ef2-0c68-470b-931b-248953d12d05"
   },
   "outputs": [
    {
     "data": {
      "text/plain": [
       "['Car',\n",
       " 'MPG',\n",
       " 'Cylinders',\n",
       " 'Displacement',\n",
       " 'Horsepower',\n",
       " 'Weight',\n",
       " 'Acceleration',\n",
       " 'Model',\n",
       " 'Origin']"
      ]
     },
     "output_type": "unknown"
    }
   ],
   "source": [
    "df.columns"
   ]
  },
  {
   "cell_type": "code",
   "execution_count": null,
   "metadata": {
    "colab": {
     "base_uri": "https://localhost:8080/"
    },
    "id": "_9pxznXWOoPb",
    "outputId": "f6514824-b143-4c99-97d9-d811407e2c8d"
   },
   "outputs": [
    {
     "data": {
      "text/plain": [
       "[('Car', 'string'),\n",
       " ('MPG', 'string'),\n",
       " ('Cylinders', 'string'),\n",
       " ('Displacement', 'string'),\n",
       " ('Horsepower', 'string'),\n",
       " ('Weight', 'string'),\n",
       " ('Acceleration', 'string'),\n",
       " ('Model', 'string'),\n",
       " ('Origin', 'string')]"
      ]
     },
     "output_type": "unknown"
    }
   ],
   "source": [
    "df.dtypes   "
   ]
  },
  {
   "cell_type": "code",
   "execution_count": null,
   "metadata": {
    "colab": {
     "base_uri": "https://localhost:8080/"
    },
    "id": "fggSDP4vOrA-",
    "outputId": "78854d20-ac8d-4798-f2c5-ccd32e30acea"
   },
   "outputs": [
    {
     "data": {
      "application/vnd.code.notebook.stdout": [
       "root\n",
       " |-- Car: string (nullable = true)\n",
       " |-- MPG: string (nullable = true)\n",
       " |-- Cylinders: string (nullable = true)\n",
       " |-- Displacement: string (nullable = true)\n",
       " |-- Horsepower: string (nullable = true)\n",
       " |-- Weight: string (nullable = true)\n",
       " |-- Acceleration: string (nullable = true)\n",
       " |-- Model: string (nullable = true)\n",
       " |-- Origin: string (nullable = true)\n",
       "\n"
      ]
     },
     "output_type": "unknown"
    }
   ],
   "source": [
    "df.printSchema()"
   ]
  },
  {
   "cell_type": "markdown",
   "metadata": {
    "id": "l-ArayGhPHtS"
   },
   "source": [
    "Inferring Schema Implicitly\n",
    "\n",
    "->We can use the parameter inferschema=true to infer the input schema automatically while loading the data. An example is shown below:"
   ]
  },
  {
   "cell_type": "code",
   "execution_count": null,
   "metadata": {
    "colab": {
     "base_uri": "https://localhost:8080/"
    },
    "id": "vpmsk6dzPDpX",
    "outputId": "6c1acda0-ac76-45e1-8fd6-8278e3c9fe43"
   },
   "outputs": [
    {
     "data": {
      "application/vnd.code.notebook.stdout": [
       "root\n",
       " |-- Car: string (nullable = true)\n",
       " |-- MPG: double (nullable = true)\n",
       " |-- Cylinders: integer (nullable = true)\n",
       " |-- Displacement: double (nullable = true)\n",
       " |-- Horsepower: double (nullable = true)\n",
       " |-- Weight: decimal(4,0) (nullable = true)\n",
       " |-- Acceleration: double (nullable = true)\n",
       " |-- Model: integer (nullable = true)\n",
       " |-- Origin: string (nullable = true)\n",
       "\n"
      ]
     },
     "output_type": "unknown"
    }
   ],
   "source": [
    "df = spark.read.csv('cars.csv', header=True, sep=\";\", inferSchema=True)\n",
    "df.printSchema()"
   ]
  },
  {
   "cell_type": "markdown",
   "metadata": {
    "id": "ooFRHAJNPPQp"
   },
   "source": [
    "As you can see, the datatype has been infered automatically spark with even the correct precison for decimal type. A problem that might arise here is that sometimes, when you have to read multiple files with different schemas in different files, there might be an issue with implicit inferring leading to null values in some columns. Therefore, let us also see how to define schemas explicitly."
   ]
  },
  {
   "cell_type": "markdown",
   "metadata": {
    "id": "eZ53ToS8PSCe"
   },
   "source": [
    "Defining Schema Explicitly"
   ]
  },
  {
   "cell_type": "code",
   "execution_count": null,
   "metadata": {
    "colab": {
     "base_uri": "https://localhost:8080/"
    },
    "id": "5IGQQNxNPMVL",
    "outputId": "1358f285-9be2-481f-fa4f-ec531aad5e7a"
   },
   "outputs": [
    {
     "data": {
      "text/plain": [
       "['Car',\n",
       " 'MPG',\n",
       " 'Cylinders',\n",
       " 'Displacement',\n",
       " 'Horsepower',\n",
       " 'Weight',\n",
       " 'Acceleration',\n",
       " 'Model',\n",
       " 'Origin']"
      ]
     },
     "output_type": "unknown"
    }
   ],
   "source": [
    "from pyspark.sql.types import *\n",
    "df.columns"
   ]
  },
  {
   "cell_type": "code",
   "execution_count": null,
   "metadata": {
    "id": "ZG7ea-EGPUdL"
   },
   "outputs": [],
   "source": [
    "# Creating a list of the schema in the format column_name, data_type\n",
    "labels = [\n",
    "     ('Car',StringType()),\n",
    "     ('MPG',DoubleType()),\n",
    "     ('Cylinders',IntegerType()),\n",
    "     ('Displacement',DoubleType()),\n",
    "     ('Horsepower',DoubleType()),\n",
    "     ('Weight',DoubleType()),\n",
    "     ('Acceleration',DoubleType()),\n",
    "     ('Model',IntegerType()),\n",
    "     ('Origin',StringType())\n",
    "]"
   ]
  },
  {
   "cell_type": "code",
   "execution_count": null,
   "metadata": {
    "colab": {
     "base_uri": "https://localhost:8080/"
    },
    "id": "37gyG41XPWlc",
    "outputId": "3d110294-902b-4bf0-f35f-423cf8a68114"
   },
   "outputs": [
    {
     "data": {
      "text/plain": [
       "StructType(List(StructField(Car,StringType,true),StructField(MPG,DoubleType,true),StructField(Cylinders,IntegerType,true),StructField(Displacement,DoubleType,true),StructField(Horsepower,DoubleType,true),StructField(Weight,DoubleType,true),StructField(Acceleration,DoubleType,true),StructField(Model,IntegerType,true),StructField(Origin,StringType,true)))"
      ]
     },
     "output_type": "unknown"
    }
   ],
   "source": [
    "# Creating the schema that will be passed when reading the csv\n",
    "schema = StructType([StructField (x[0], x[1], True) for x in labels])\n",
    "schema"
   ]
  },
  {
   "cell_type": "code",
   "execution_count": null,
   "metadata": {
    "colab": {
     "base_uri": "https://localhost:8080/"
    },
    "id": "nZ1yO-bgPZN8",
    "outputId": "1beb93d9-903f-4a14-ca37-0d1734f8ec9d"
   },
   "outputs": [
    {
     "data": {
      "application/vnd.code.notebook.stdout": [
       "root\n",
       " |-- Car: string (nullable = true)\n",
       " |-- MPG: double (nullable = true)\n",
       " |-- Cylinders: integer (nullable = true)\n",
       " |-- Displacement: double (nullable = true)\n",
       " |-- Horsepower: double (nullable = true)\n",
       " |-- Weight: double (nullable = true)\n",
       " |-- Acceleration: double (nullable = true)\n",
       " |-- Model: integer (nullable = true)\n",
       " |-- Origin: string (nullable = true)\n",
       "\n"
      ]
     },
     "output_type": "unknown"
    }
   ],
   "source": [
    "df = spark.read.csv('cars.csv', header=True, sep=\";\", schema=schema)\n",
    "df.printSchema()\n",
    "# The schema comes as we gave!"
   ]
  },
  {
   "cell_type": "code",
   "execution_count": null,
   "metadata": {
    "colab": {
     "base_uri": "https://localhost:8080/"
    },
    "id": "klFQ8qi3PcCS",
    "outputId": "0093e59c-435d-42e8-e4d8-cc6c0a406cfd"
   },
   "outputs": [
    {
     "data": {
      "application/vnd.code.notebook.stdout": [
       "+--------------------------------+----+---------+------------+----------+------+------------+-----+------+\n",
       "|Car                             |MPG |Cylinders|Displacement|Horsepower|Weight|Acceleration|Model|Origin|\n",
       "+--------------------------------+----+---------+------------+----------+------+------------+-----+------+\n",
       "|Chevrolet Chevelle Malibu       |18.0|8        |307.0       |130.0     |3504.0|12.0        |70   |US    |\n",
       "|Buick Skylark 320               |15.0|8        |350.0       |165.0     |3693.0|11.5        |70   |US    |\n",
       "|Plymouth Satellite              |18.0|8        |318.0       |150.0     |3436.0|11.0        |70   |US    |\n",
       "|AMC Rebel SST                   |16.0|8        |304.0       |150.0     |3433.0|12.0        |70   |US    |\n",
       "|Ford Torino                     |17.0|8        |302.0       |140.0     |3449.0|10.5        |70   |US    |\n",
       "|Ford Galaxie 500                |15.0|8        |429.0       |198.0     |4341.0|10.0        |70   |US    |\n",
       "|Chevrolet Impala                |14.0|8        |454.0       |220.0     |4354.0|9.0         |70   |US    |\n",
       "|Plymouth Fury iii               |14.0|8        |440.0       |215.0     |4312.0|8.5         |70   |US    |\n",
       "|Pontiac Catalina                |14.0|8        |455.0       |225.0     |4425.0|10.0        |70   |US    |\n",
       "|AMC Ambassador DPL              |15.0|8        |390.0       |190.0     |3850.0|8.5         |70   |US    |\n",
       "|Citroen DS-21 Pallas            |0.0 |4        |133.0       |115.0     |3090.0|17.5        |70   |Europe|\n",
       "|Chevrolet Chevelle Concours (sw)|0.0 |8        |350.0       |165.0     |4142.0|11.5        |70   |US    |\n",
       "|Ford Torino (sw)                |0.0 |8        |351.0       |153.0     |4034.0|11.0        |70   |US    |\n",
       "|Plymouth Satellite (sw)         |0.0 |8        |383.0       |175.0     |4166.0|10.5        |70   |US    |\n",
       "|AMC Rebel SST (sw)              |0.0 |8        |360.0       |175.0     |3850.0|11.0        |70   |US    |\n",
       "|Dodge Challenger SE             |15.0|8        |383.0       |170.0     |3563.0|10.0        |70   |US    |\n",
       "|Plymouth 'Cuda 340              |14.0|8        |340.0       |160.0     |3609.0|8.0         |70   |US    |\n",
       "|Ford Mustang Boss 302           |0.0 |8        |302.0       |140.0     |3353.0|8.0         |70   |US    |\n",
       "|Chevrolet Monte Carlo           |15.0|8        |400.0       |150.0     |3761.0|9.5         |70   |US    |\n",
       "|Buick Estate Wagon (sw)         |14.0|8        |455.0       |225.0     |3086.0|10.0        |70   |US    |\n",
       "+--------------------------------+----+---------+------------+----------+------+------------+-----+------+\n",
       "only showing top 20 rows\n",
       "\n"
      ]
     },
     "output_type": "unknown"
    }
   ],
   "source": [
    "df.show(truncate=False)\n",
    "\n",
    "#As we can see here, the data has been successully loaded with the specified datatypes."
   ]
  },
  {
   "cell_type": "markdown",
   "metadata": {
    "id": "GPzgdb6qPsae"
   },
   "source": [
    "DataFrame Operations on Columns \n",
    "\n",
    "We will go over the following in this section:\n",
    "\n",
    "1. Selecting Columns\n",
    "2. Selecting Multiple Columns\n",
    "3. Adding New Columns\n",
    "4. Renaming Columns\n",
    "5. Grouping By Columns\n",
    "6. Removing Columns\n",
    "\n",
    "Selecting Columns\n",
    "\n",
    "There are multiple ways to do a select in PySpark. You can find how they differ and how each below:"
   ]
  },
  {
   "cell_type": "code",
   "execution_count": null,
   "metadata": {
    "colab": {
     "base_uri": "https://localhost:8080/"
    },
    "id": "BlbL7-mzPe2S",
    "outputId": "98762bd7-6a74-4686-e6b7-7ea3af951a6f"
   },
   "outputs": [
    {
     "data": {
      "application/vnd.code.notebook.stdout": [
       "Column<'Car'>\n",
       "********************\n",
       "+--------------------------------+\n",
       "|Car                             |\n",
       "+--------------------------------+\n",
       "|Chevrolet Chevelle Malibu       |\n",
       "|Buick Skylark 320               |\n",
       "|Plymouth Satellite              |\n",
       "|AMC Rebel SST                   |\n",
       "|Ford Torino                     |\n",
       "|Ford Galaxie 500                |\n",
       "|Chevrolet Impala                |\n",
       "|Plymouth Fury iii               |\n",
       "|Pontiac Catalina                |\n",
       "|AMC Ambassador DPL              |\n",
       "|Citroen DS-21 Pallas            |\n",
       "|Chevrolet Chevelle Concours (sw)|\n",
       "|Ford Torino (sw)                |\n",
       "|Plymouth Satellite (sw)         |\n",
       "|AMC Rebel SST (sw)              |\n",
       "|Dodge Challenger SE             |\n",
       "|Plymouth 'Cuda 340              |\n",
       "|Ford Mustang Boss 302           |\n",
       "|Chevrolet Monte Carlo           |\n",
       "|Buick Estate Wagon (sw)         |\n",
       "+--------------------------------+\n",
       "only showing top 20 rows\n",
       "\n"
      ]
     },
     "output_type": "unknown"
    }
   ],
   "source": [
    "# 1st method\n",
    "# Column name is case sensitive in this usage\n",
    "print(df.Car)\n",
    "print(\"*\"*20)\n",
    "df.select(df.Car).show(truncate=False)"
   ]
  },
  {
   "cell_type": "markdown",
   "metadata": {
    "id": "w_Y3Cpc0Vmcx"
   },
   "source": [
    "NOTE:\n",
    "\n",
    "We can't always use the dot notation because this will break when the column names have reserved names or attributes to the data frame class. Additionally, the column names are case sensitive in nature so we need to always make sure the column names have been changed to a paticular case before using it."
   ]
  },
  {
   "cell_type": "code",
   "execution_count": null,
   "metadata": {
    "colab": {
     "base_uri": "https://localhost:8080/"
    },
    "id": "XDzR5UTJVgWk",
    "outputId": "ee9075a3-d68b-44a4-8acf-f64945ffbb02"
   },
   "outputs": [
    {
     "data": {
      "application/vnd.code.notebook.stdout": [
       "Column<'car'>\n",
       "********************\n",
       "+--------------------------------+\n",
       "|car                             |\n",
       "+--------------------------------+\n",
       "|Chevrolet Chevelle Malibu       |\n",
       "|Buick Skylark 320               |\n",
       "|Plymouth Satellite              |\n",
       "|AMC Rebel SST                   |\n",
       "|Ford Torino                     |\n",
       "|Ford Galaxie 500                |\n",
       "|Chevrolet Impala                |\n",
       "|Plymouth Fury iii               |\n",
       "|Pontiac Catalina                |\n",
       "|AMC Ambassador DPL              |\n",
       "|Citroen DS-21 Pallas            |\n",
       "|Chevrolet Chevelle Concours (sw)|\n",
       "|Ford Torino (sw)                |\n",
       "|Plymouth Satellite (sw)         |\n",
       "|AMC Rebel SST (sw)              |\n",
       "|Dodge Challenger SE             |\n",
       "|Plymouth 'Cuda 340              |\n",
       "|Ford Mustang Boss 302           |\n",
       "|Chevrolet Monte Carlo           |\n",
       "|Buick Estate Wagon (sw)         |\n",
       "+--------------------------------+\n",
       "only showing top 20 rows\n",
       "\n"
      ]
     },
     "output_type": "unknown"
    }
   ],
   "source": [
    "# 2nd method\n",
    "# Column name is case insensitive here\n",
    "print(df['car'])\n",
    "print(\"*\"*20)\n",
    "df.select(df['car']).show(truncate=False)"
   ]
  },
  {
   "cell_type": "code",
   "execution_count": null,
   "metadata": {
    "colab": {
     "base_uri": "https://localhost:8080/"
    },
    "id": "JVP0CrYjVuX0",
    "outputId": "7f979f91-866e-4a21-9f41-50ba3babf48d"
   },
   "outputs": [
    {
     "data": {
      "application/vnd.code.notebook.stdout": [
       "+--------------------------------+\n",
       "|car                             |\n",
       "+--------------------------------+\n",
       "|Chevrolet Chevelle Malibu       |\n",
       "|Buick Skylark 320               |\n",
       "|Plymouth Satellite              |\n",
       "|AMC Rebel SST                   |\n",
       "|Ford Torino                     |\n",
       "|Ford Galaxie 500                |\n",
       "|Chevrolet Impala                |\n",
       "|Plymouth Fury iii               |\n",
       "|Pontiac Catalina                |\n",
       "|AMC Ambassador DPL              |\n",
       "|Citroen DS-21 Pallas            |\n",
       "|Chevrolet Chevelle Concours (sw)|\n",
       "|Ford Torino (sw)                |\n",
       "|Plymouth Satellite (sw)         |\n",
       "|AMC Rebel SST (sw)              |\n",
       "|Dodge Challenger SE             |\n",
       "|Plymouth 'Cuda 340              |\n",
       "|Ford Mustang Boss 302           |\n",
       "|Chevrolet Monte Carlo           |\n",
       "|Buick Estate Wagon (sw)         |\n",
       "+--------------------------------+\n",
       "only showing top 20 rows\n",
       "\n"
      ]
     },
     "output_type": "unknown"
    }
   ],
   "source": [
    "# 3rd method\n",
    "# Column name is case insensitive here\n",
    "from pyspark.sql.functions import col\n",
    "df.select(col('car')).show(truncate=False)"
   ]
  },
  {
   "cell_type": "markdown",
   "metadata": {
    "id": "fr91QaUKVz5p"
   },
   "source": [
    "Selecting Multiple Columns"
   ]
  },
  {
   "cell_type": "code",
   "execution_count": null,
   "metadata": {
    "colab": {
     "base_uri": "https://localhost:8080/"
    },
    "id": "0aYn1UooVzkI",
    "outputId": "3e3242e5-b3c6-4dd8-df62-b1aacd40f8de"
   },
   "outputs": [
    {
     "data": {
      "application/vnd.code.notebook.stdout": [
       "Column<'Car'> Column<'Cylinders'>\n",
       "****************************************\n",
       "+--------------------------------+---------+\n",
       "|Car                             |Cylinders|\n",
       "+--------------------------------+---------+\n",
       "|Chevrolet Chevelle Malibu       |8        |\n",
       "|Buick Skylark 320               |8        |\n",
       "|Plymouth Satellite              |8        |\n",
       "|AMC Rebel SST                   |8        |\n",
       "|Ford Torino                     |8        |\n",
       "|Ford Galaxie 500                |8        |\n",
       "|Chevrolet Impala                |8        |\n",
       "|Plymouth Fury iii               |8        |\n",
       "|Pontiac Catalina                |8        |\n",
       "|AMC Ambassador DPL              |8        |\n",
       "|Citroen DS-21 Pallas            |4        |\n",
       "|Chevrolet Chevelle Concours (sw)|8        |\n",
       "|Ford Torino (sw)                |8        |\n",
       "|Plymouth Satellite (sw)         |8        |\n",
       "|AMC Rebel SST (sw)              |8        |\n",
       "|Dodge Challenger SE             |8        |\n",
       "|Plymouth 'Cuda 340              |8        |\n",
       "|Ford Mustang Boss 302           |8        |\n",
       "|Chevrolet Monte Carlo           |8        |\n",
       "|Buick Estate Wagon (sw)         |8        |\n",
       "+--------------------------------+---------+\n",
       "only showing top 20 rows\n",
       "\n"
      ]
     },
     "output_type": "unknown"
    }
   ],
   "source": [
    "# 1st method\n",
    "# Column name is case sensitive in this usage\n",
    "print(df.Car, df.Cylinders)\n",
    "print(\"*\"*40)\n",
    "df.select(df.Car, df.Cylinders).show(truncate=False)"
   ]
  },
  {
   "cell_type": "code",
   "execution_count": null,
   "metadata": {
    "colab": {
     "base_uri": "https://localhost:8080/"
    },
    "id": "Wm0Pw-TOV3TG",
    "outputId": "bc9e42e4-52c0-4259-c1ca-ec4c305e3e3c"
   },
   "outputs": [
    {
     "data": {
      "application/vnd.code.notebook.stdout": [
       "Column<'car'> Column<'cylinders'>\n",
       "****************************************\n",
       "+--------------------------------+---------+\n",
       "|car                             |cylinders|\n",
       "+--------------------------------+---------+\n",
       "|Chevrolet Chevelle Malibu       |8        |\n",
       "|Buick Skylark 320               |8        |\n",
       "|Plymouth Satellite              |8        |\n",
       "|AMC Rebel SST                   |8        |\n",
       "|Ford Torino                     |8        |\n",
       "|Ford Galaxie 500                |8        |\n",
       "|Chevrolet Impala                |8        |\n",
       "|Plymouth Fury iii               |8        |\n",
       "|Pontiac Catalina                |8        |\n",
       "|AMC Ambassador DPL              |8        |\n",
       "|Citroen DS-21 Pallas            |4        |\n",
       "|Chevrolet Chevelle Concours (sw)|8        |\n",
       "|Ford Torino (sw)                |8        |\n",
       "|Plymouth Satellite (sw)         |8        |\n",
       "|AMC Rebel SST (sw)              |8        |\n",
       "|Dodge Challenger SE             |8        |\n",
       "|Plymouth 'Cuda 340              |8        |\n",
       "|Ford Mustang Boss 302           |8        |\n",
       "|Chevrolet Monte Carlo           |8        |\n",
       "|Buick Estate Wagon (sw)         |8        |\n",
       "+--------------------------------+---------+\n",
       "only showing top 20 rows\n",
       "\n"
      ]
     },
     "output_type": "unknown"
    }
   ],
   "source": [
    "# 2nd method\n",
    "# Column name is case insensitive in this usage\n",
    "print(df['car'],df['cylinders'])\n",
    "print(\"*\"*40)\n",
    "df.select(df['car'],df['cylinders']).show(truncate=False)"
   ]
  },
  {
   "cell_type": "code",
   "execution_count": null,
   "metadata": {
    "colab": {
     "base_uri": "https://localhost:8080/"
    },
    "id": "k0Ph0hB7V6ZN",
    "outputId": "10ec53a1-1438-43c8-ad1a-f5201888cfb8"
   },
   "outputs": [
    {
     "data": {
      "application/vnd.code.notebook.stdout": [
       "+--------------------------------+---------+\n",
       "|car                             |cylinders|\n",
       "+--------------------------------+---------+\n",
       "|Chevrolet Chevelle Malibu       |8        |\n",
       "|Buick Skylark 320               |8        |\n",
       "|Plymouth Satellite              |8        |\n",
       "|AMC Rebel SST                   |8        |\n",
       "|Ford Torino                     |8        |\n",
       "|Ford Galaxie 500                |8        |\n",
       "|Chevrolet Impala                |8        |\n",
       "|Plymouth Fury iii               |8        |\n",
       "|Pontiac Catalina                |8        |\n",
       "|AMC Ambassador DPL              |8        |\n",
       "|Citroen DS-21 Pallas            |4        |\n",
       "|Chevrolet Chevelle Concours (sw)|8        |\n",
       "|Ford Torino (sw)                |8        |\n",
       "|Plymouth Satellite (sw)         |8        |\n",
       "|AMC Rebel SST (sw)              |8        |\n",
       "|Dodge Challenger SE             |8        |\n",
       "|Plymouth 'Cuda 340              |8        |\n",
       "|Ford Mustang Boss 302           |8        |\n",
       "|Chevrolet Monte Carlo           |8        |\n",
       "|Buick Estate Wagon (sw)         |8        |\n",
       "+--------------------------------+---------+\n",
       "only showing top 20 rows\n",
       "\n"
      ]
     },
     "output_type": "unknown"
    }
   ],
   "source": [
    "# 3rd method\n",
    "# Column name is case insensitive in this usage\n",
    "from pyspark.sql.functions import col\n",
    "df.select(col('car'),col('cylinders')).show(truncate=False)"
   ]
  },
  {
   "cell_type": "markdown",
   "metadata": {
    "id": "zUnp9nS3WfLE"
   },
   "source": [
    "Adding New Columns\n",
    "We will take a look at three cases here:\n",
    "\n",
    "1. Adding a new column\n",
    "2. Adding multiple columns\n",
    "3. Deriving a new column from an exisitng one"
   ]
  },
  {
   "cell_type": "code",
   "execution_count": null,
   "metadata": {
    "colab": {
     "base_uri": "https://localhost:8080/"
    },
    "id": "dgJDBlOCWapT",
    "outputId": "9db8f3ef-0f27-4e15-b9b9-5fcc839267a1"
   },
   "outputs": [
    {
     "data": {
      "application/vnd.code.notebook.stdout": [
       "+-------------------------+----+---------+------------+----------+------+------------+-----+------+------------+\n",
       "|Car                      |MPG |Cylinders|Displacement|Horsepower|Weight|Acceleration|Model|Origin|first_column|\n",
       "+-------------------------+----+---------+------------+----------+------+------------+-----+------+------------+\n",
       "|Chevrolet Chevelle Malibu|18.0|8        |307.0       |130.0     |3504.0|12.0        |70   |US    |1           |\n",
       "|Buick Skylark 320        |15.0|8        |350.0       |165.0     |3693.0|11.5        |70   |US    |1           |\n",
       "|Plymouth Satellite       |18.0|8        |318.0       |150.0     |3436.0|11.0        |70   |US    |1           |\n",
       "|AMC Rebel SST            |16.0|8        |304.0       |150.0     |3433.0|12.0        |70   |US    |1           |\n",
       "|Ford Torino              |17.0|8        |302.0       |140.0     |3449.0|10.5        |70   |US    |1           |\n",
       "+-------------------------+----+---------+------------+----------+------+------------+-----+------+------------+\n",
       "only showing top 5 rows\n",
       "\n"
      ]
     },
     "output_type": "unknown"
    }
   ],
   "source": [
    "# CASE 1: Adding a new column\n",
    "# We will add a new column called 'first_column' at the end\n",
    "from pyspark.sql.functions import lit\n",
    "df = df.withColumn('first_column',lit(1)) \n",
    "# lit means literal. It populates the row with the literal value given.\n",
    "# When adding static data / constant values, it is a good practice to use it.\n",
    "df.show(5,truncate=False)"
   ]
  },
  {
   "cell_type": "code",
   "execution_count": null,
   "metadata": {
    "colab": {
     "base_uri": "https://localhost:8080/"
    },
    "id": "Qr64adNoVxg6",
    "outputId": "8f64f757-c31b-46c8-8e9f-cbc370979f5e"
   },
   "outputs": [
    {
     "data": {
      "application/vnd.code.notebook.stdout": [
       "+-------------------------+----+---------+------------+----------+------+------------+-----+------+------------+\n",
       "|Car                      |MPG |Cylinders|Displacement|Horsepower|Weight|Acceleration|Model|Origin|first_column|\n",
       "+-------------------------+----+---------+------------+----------+------+------------+-----+------+------------+\n",
       "|Chevrolet Chevelle Malibu|18.0|8        |307.0       |130.0     |3504.0|12.0        |70   |US    |1           |\n",
       "|Buick Skylark 320        |15.0|8        |350.0       |165.0     |3693.0|11.5        |70   |US    |1           |\n",
       "|Plymouth Satellite       |18.0|8        |318.0       |150.0     |3436.0|11.0        |70   |US    |1           |\n",
       "|AMC Rebel SST            |16.0|8        |304.0       |150.0     |3433.0|12.0        |70   |US    |1           |\n",
       "|Ford Torino              |17.0|8        |302.0       |140.0     |3449.0|10.5        |70   |US    |1           |\n",
       "+-------------------------+----+---------+------------+----------+------+------------+-----+------+------------+\n",
       "only showing top 5 rows\n",
       "\n"
      ]
     },
     "output_type": "unknown"
    }
   ],
   "source": [
    "# CASE 1: Adding a new column\n",
    "# We will add a new column called 'first_column' at the end\n",
    "from pyspark.sql.functions import lit\n",
    "df = df.withColumn('first_column',lit(1)) \n",
    "# lit means literal. It populates the row with the literal value given.\n",
    "# When adding static data / constant values, it is a good practice to use it.\n",
    "df.show(5,truncate=False)"
   ]
  },
  {
   "cell_type": "code",
   "execution_count": null,
   "metadata": {
    "colab": {
     "base_uri": "https://localhost:8080/"
    },
    "id": "Bll0FOcTNNd6",
    "outputId": "06673da0-8e6a-4970-9e66-1350d5c2cc18"
   },
   "outputs": [
    {
     "data": {
      "application/vnd.code.notebook.stdout": [
       "+-------------------------+----+---------+------------+----------+------+------------+-----+------+------------+-------------+------------+\n",
       "|Car                      |MPG |Cylinders|Displacement|Horsepower|Weight|Acceleration|Model|Origin|first_column|second_column|third_column|\n",
       "+-------------------------+----+---------+------------+----------+------+------------+-----+------+------------+-------------+------------+\n",
       "|Chevrolet Chevelle Malibu|18.0|8        |307.0       |130.0     |3504.0|12.0        |70   |US    |1           |2            |Third Column|\n",
       "|Buick Skylark 320        |15.0|8        |350.0       |165.0     |3693.0|11.5        |70   |US    |1           |2            |Third Column|\n",
       "|Plymouth Satellite       |18.0|8        |318.0       |150.0     |3436.0|11.0        |70   |US    |1           |2            |Third Column|\n",
       "|AMC Rebel SST            |16.0|8        |304.0       |150.0     |3433.0|12.0        |70   |US    |1           |2            |Third Column|\n",
       "|Ford Torino              |17.0|8        |302.0       |140.0     |3449.0|10.5        |70   |US    |1           |2            |Third Column|\n",
       "+-------------------------+----+---------+------------+----------+------+------------+-----+------+------------+-------------+------------+\n",
       "only showing top 5 rows\n",
       "\n"
      ]
     },
     "output_type": "unknown"
    }
   ],
   "source": [
    "# CASE 2: Adding multiple columns\n",
    "# We will add two new columns called 'second_column' and 'third_column' at the end\n",
    "df = df.withColumn('second_column', lit(2)) \\\n",
    "       .withColumn('third_column', lit('Third Column')) \n",
    "\n",
    "# lit means literal. It populates the row with the literal value given.\n",
    "# When adding static data / constant values, it is a good practice to use it.\n",
    "\n",
    "df.show(5,truncate=False)"
   ]
  },
  {
   "cell_type": "code",
   "execution_count": null,
   "metadata": {
    "colab": {
     "base_uri": "https://localhost:8080/"
    },
    "id": "sJQkI3a4XdnQ",
    "outputId": "7eec2b5d-ea83-4150-e811-f0d355075d62"
   },
   "outputs": [
    {
     "data": {
      "application/vnd.code.notebook.stdout": [
       "+-------------------------+----+---------+------------+----------+------+------------+-----+------+------------+-------------+------------+----------------------------+\n",
       "|Car                      |MPG |Cylinders|Displacement|Horsepower|Weight|Acceleration|Model|Origin|first_column|second_column|third_column|car_model                   |\n",
       "+-------------------------+----+---------+------------+----------+------+------------+-----+------+------------+-------------+------------+----------------------------+\n",
       "|Chevrolet Chevelle Malibu|18.0|8        |307.0       |130.0     |3504.0|12.0        |70   |US    |1           |2            |Third Column|Chevrolet Chevelle Malibu 70|\n",
       "|Buick Skylark 320        |15.0|8        |350.0       |165.0     |3693.0|11.5        |70   |US    |1           |2            |Third Column|Buick Skylark 320 70        |\n",
       "|Plymouth Satellite       |18.0|8        |318.0       |150.0     |3436.0|11.0        |70   |US    |1           |2            |Third Column|Plymouth Satellite 70       |\n",
       "|AMC Rebel SST            |16.0|8        |304.0       |150.0     |3433.0|12.0        |70   |US    |1           |2            |Third Column|AMC Rebel SST 70            |\n",
       "|Ford Torino              |17.0|8        |302.0       |140.0     |3449.0|10.5        |70   |US    |1           |2            |Third Column|Ford Torino 70              |\n",
       "+-------------------------+----+---------+------------+----------+------+------------+-----+------+------------+-------------+------------+----------------------------+\n",
       "only showing top 5 rows\n",
       "\n"
      ]
     },
     "output_type": "unknown"
    }
   ],
   "source": [
    "# CASE 3: Deriving a new column from an exisitng one\n",
    "# We will add a new column called 'car_model' which has the value of car and model appended together with a space in between \n",
    "\n",
    "from pyspark.sql.functions import concat\n",
    "df = df.withColumn('car_model', concat(col(\"Car\"), lit(\" \"), col(\"model\")))\n",
    "\n",
    "\n",
    "\n",
    "df.show(5,truncate=False)"
   ]
  },
  {
   "cell_type": "markdown",
   "metadata": {
    "id": "A7y4ZmsAYjP9"
   },
   "source": [
    "As we can see, the new column car model has been created from existing columns. Since our aim was to create a column which has the value of car and model appended together with a space in between we have used the concat operator.\n",
    "\n",
    "\n"
   ]
  },
  {
   "cell_type": "markdown",
   "metadata": {
    "id": "--gUXR47Ysp2"
   },
   "source": [
    "Renaming Columns\n",
    "\n",
    "We use the withColumnRenamed function to rename a columm in PySpark. Let us see it in action below:"
   ]
  },
  {
   "cell_type": "code",
   "execution_count": null,
   "metadata": {
    "colab": {
     "base_uri": "https://localhost:8080/"
    },
    "id": "7XGB2S4SXfvA",
    "outputId": "ec3c756a-e49c-43ae-8ab5-fa51208cf304"
   },
   "outputs": [
    {
     "data": {
      "application/vnd.code.notebook.stdout": [
       "+--------------------------------+----+---------+------------+----------+------+------------+-----+------+--------------+--------------+----------------+-----------------------------------+\n",
       "|Car                             |MPG |Cylinders|Displacement|Horsepower|Weight|Acceleration|Model|Origin|new_column_one|new_column_two|new_column_three|car_model                          |\n",
       "+--------------------------------+----+---------+------------+----------+------+------------+-----+------+--------------+--------------+----------------+-----------------------------------+\n",
       "|Chevrolet Chevelle Malibu       |18.0|8        |307.0       |130.0     |3504.0|12.0        |70   |US    |1             |2             |Third Column    |Chevrolet Chevelle Malibu 70       |\n",
       "|Buick Skylark 320               |15.0|8        |350.0       |165.0     |3693.0|11.5        |70   |US    |1             |2             |Third Column    |Buick Skylark 320 70               |\n",
       "|Plymouth Satellite              |18.0|8        |318.0       |150.0     |3436.0|11.0        |70   |US    |1             |2             |Third Column    |Plymouth Satellite 70              |\n",
       "|AMC Rebel SST                   |16.0|8        |304.0       |150.0     |3433.0|12.0        |70   |US    |1             |2             |Third Column    |AMC Rebel SST 70                   |\n",
       "|Ford Torino                     |17.0|8        |302.0       |140.0     |3449.0|10.5        |70   |US    |1             |2             |Third Column    |Ford Torino 70                     |\n",
       "|Ford Galaxie 500                |15.0|8        |429.0       |198.0     |4341.0|10.0        |70   |US    |1             |2             |Third Column    |Ford Galaxie 500 70                |\n",
       "|Chevrolet Impala                |14.0|8        |454.0       |220.0     |4354.0|9.0         |70   |US    |1             |2             |Third Column    |Chevrolet Impala 70                |\n",
       "|Plymouth Fury iii               |14.0|8        |440.0       |215.0     |4312.0|8.5         |70   |US    |1             |2             |Third Column    |Plymouth Fury iii 70               |\n",
       "|Pontiac Catalina                |14.0|8        |455.0       |225.0     |4425.0|10.0        |70   |US    |1             |2             |Third Column    |Pontiac Catalina 70                |\n",
       "|AMC Ambassador DPL              |15.0|8        |390.0       |190.0     |3850.0|8.5         |70   |US    |1             |2             |Third Column    |AMC Ambassador DPL 70              |\n",
       "|Citroen DS-21 Pallas            |0.0 |4        |133.0       |115.0     |3090.0|17.5        |70   |Europe|1             |2             |Third Column    |Citroen DS-21 Pallas 70            |\n",
       "|Chevrolet Chevelle Concours (sw)|0.0 |8        |350.0       |165.0     |4142.0|11.5        |70   |US    |1             |2             |Third Column    |Chevrolet Chevelle Concours (sw) 70|\n",
       "|Ford Torino (sw)                |0.0 |8        |351.0       |153.0     |4034.0|11.0        |70   |US    |1             |2             |Third Column    |Ford Torino (sw) 70                |\n",
       "|Plymouth Satellite (sw)         |0.0 |8        |383.0       |175.0     |4166.0|10.5        |70   |US    |1             |2             |Third Column    |Plymouth Satellite (sw) 70         |\n",
       "|AMC Rebel SST (sw)              |0.0 |8        |360.0       |175.0     |3850.0|11.0        |70   |US    |1             |2             |Third Column    |AMC Rebel SST (sw) 70              |\n",
       "|Dodge Challenger SE             |15.0|8        |383.0       |170.0     |3563.0|10.0        |70   |US    |1             |2             |Third Column    |Dodge Challenger SE 70             |\n",
       "|Plymouth 'Cuda 340              |14.0|8        |340.0       |160.0     |3609.0|8.0         |70   |US    |1             |2             |Third Column    |Plymouth 'Cuda 340 70              |\n",
       "|Ford Mustang Boss 302           |0.0 |8        |302.0       |140.0     |3353.0|8.0         |70   |US    |1             |2             |Third Column    |Ford Mustang Boss 302 70           |\n",
       "|Chevrolet Monte Carlo           |15.0|8        |400.0       |150.0     |3761.0|9.5         |70   |US    |1             |2             |Third Column    |Chevrolet Monte Carlo 70           |\n",
       "|Buick Estate Wagon (sw)         |14.0|8        |455.0       |225.0     |3086.0|10.0        |70   |US    |1             |2             |Third Column    |Buick Estate Wagon (sw) 70         |\n",
       "+--------------------------------+----+---------+------------+----------+------+------------+-----+------+--------------+--------------+----------------+-----------------------------------+\n",
       "only showing top 20 rows\n",
       "\n"
      ]
     },
     "output_type": "unknown"
    }
   ],
   "source": [
    "#Renaming a column in PySpark\n",
    "df = df.withColumnRenamed('first_column', 'new_column_one') \\\n",
    "       .withColumnRenamed('second_column', 'new_column_two') \\\n",
    "       .withColumnRenamed('third_column', 'new_column_three')\n",
    "df.show(truncate=False)"
   ]
  },
  {
   "cell_type": "markdown",
   "metadata": {
    "id": "HHVYp1HSYyzJ"
   },
   "source": [
    "Grouping By Columns\n",
    "\n",
    "Here, we see the Dataframe API way of grouping values. We will discuss how to:\n",
    "\n",
    "1. Group By a single column\n",
    "2. Group By multiple columns"
   ]
  },
  {
   "cell_type": "code",
   "execution_count": null,
   "metadata": {
    "colab": {
     "base_uri": "https://localhost:8080/"
    },
    "id": "2XSLzOYAYwgF",
    "outputId": "31436578-38f3-4cb8-a6c5-8a062b3e5ace"
   },
   "outputs": [
    {
     "data": {
      "application/vnd.code.notebook.stdout": [
       "+------+-----+\n",
       "|Origin|count|\n",
       "+------+-----+\n",
       "|Europe|   73|\n",
       "|    US|  254|\n",
       "| Japan|   79|\n",
       "+------+-----+\n",
       "\n"
      ]
     },
     "output_type": "unknown"
    }
   ],
   "source": [
    "# Group By a column in PySpark\n",
    "df.groupBy('Origin').count().show(5)"
   ]
  },
  {
   "cell_type": "code",
   "execution_count": null,
   "metadata": {
    "colab": {
     "base_uri": "https://localhost:8080/"
    },
    "id": "_HNV3LA-Y5yc",
    "outputId": "05bea917-e3d3-48fb-cb0e-979f108d48de"
   },
   "outputs": [
    {
     "data": {
      "application/vnd.code.notebook.stdout": [
       "+------+-----+-----+\n",
       "|Origin|Model|count|\n",
       "+------+-----+-----+\n",
       "|Europe|   71|    5|\n",
       "|Europe|   80|    9|\n",
       "|Europe|   79|    4|\n",
       "| Japan|   75|    4|\n",
       "|    US|   72|   18|\n",
       "+------+-----+-----+\n",
       "only showing top 5 rows\n",
       "\n"
      ]
     },
     "output_type": "unknown"
    }
   ],
   "source": [
    "# Group By multiple columns in PySpark\n",
    "df.groupBy('Origin', 'Model').count().show(5)"
   ]
  },
  {
   "cell_type": "markdown",
   "metadata": {
    "id": "wZK1EEjOY997"
   },
   "source": [
    "Removing Columns"
   ]
  },
  {
   "cell_type": "code",
   "execution_count": null,
   "metadata": {
    "colab": {
     "base_uri": "https://localhost:8080/"
    },
    "id": "TOfsL97UY73L",
    "outputId": "2660c851-290a-40f1-cb17-e8ec239367ff"
   },
   "outputs": [
    {
     "data": {
      "application/vnd.code.notebook.stdout": [
       "+-------------------------+----+---------+------------+----------+------+------------+-----+------+--------------+----------------+----------------------------+\n",
       "|Car                      |MPG |Cylinders|Displacement|Horsepower|Weight|Acceleration|Model|Origin|new_column_two|new_column_three|car_model                   |\n",
       "+-------------------------+----+---------+------------+----------+------+------------+-----+------+--------------+----------------+----------------------------+\n",
       "|Chevrolet Chevelle Malibu|18.0|8        |307.0       |130.0     |3504.0|12.0        |70   |US    |2             |Third Column    |Chevrolet Chevelle Malibu 70|\n",
       "|Buick Skylark 320        |15.0|8        |350.0       |165.0     |3693.0|11.5        |70   |US    |2             |Third Column    |Buick Skylark 320 70        |\n",
       "|Plymouth Satellite       |18.0|8        |318.0       |150.0     |3436.0|11.0        |70   |US    |2             |Third Column    |Plymouth Satellite 70       |\n",
       "|AMC Rebel SST            |16.0|8        |304.0       |150.0     |3433.0|12.0        |70   |US    |2             |Third Column    |AMC Rebel SST 70            |\n",
       "|Ford Torino              |17.0|8        |302.0       |140.0     |3449.0|10.5        |70   |US    |2             |Third Column    |Ford Torino 70              |\n",
       "+-------------------------+----+---------+------------+----------+------+------------+-----+------+--------------+----------------+----------------------------+\n",
       "only showing top 5 rows\n",
       "\n"
      ]
     },
     "output_type": "unknown"
    }
   ],
   "source": [
    "#Remove columns in PySpark\n",
    "df = df.drop('new_column_one')\n",
    "df.show(5,truncate=False)"
   ]
  },
  {
   "cell_type": "code",
   "execution_count": null,
   "metadata": {
    "colab": {
     "base_uri": "https://localhost:8080/"
    },
    "id": "yeC2t4_TZAW8",
    "outputId": "15b73e55-9788-4f3c-f283-0572bb5a3254"
   },
   "outputs": [
    {
     "data": {
      "application/vnd.code.notebook.stdout": [
       "+-------------------------+----+---------+------------+----------+------+------------+-----+------+----------------------------+\n",
       "|Car                      |MPG |Cylinders|Displacement|Horsepower|Weight|Acceleration|Model|Origin|car_model                   |\n",
       "+-------------------------+----+---------+------------+----------+------+------------+-----+------+----------------------------+\n",
       "|Chevrolet Chevelle Malibu|18.0|8        |307.0       |130.0     |3504.0|12.0        |70   |US    |Chevrolet Chevelle Malibu 70|\n",
       "|Buick Skylark 320        |15.0|8        |350.0       |165.0     |3693.0|11.5        |70   |US    |Buick Skylark 320 70        |\n",
       "|Plymouth Satellite       |18.0|8        |318.0       |150.0     |3436.0|11.0        |70   |US    |Plymouth Satellite 70       |\n",
       "|AMC Rebel SST            |16.0|8        |304.0       |150.0     |3433.0|12.0        |70   |US    |AMC Rebel SST 70            |\n",
       "|Ford Torino              |17.0|8        |302.0       |140.0     |3449.0|10.5        |70   |US    |Ford Torino 70              |\n",
       "+-------------------------+----+---------+------------+----------+------+------------+-----+------+----------------------------+\n",
       "only showing top 5 rows\n",
       "\n"
      ]
     },
     "output_type": "unknown"
    }
   ],
   "source": [
    "#Remove multiple columnss in one go\n",
    "df = df.drop('new_column_two') \\\n",
    "       .drop('new_column_three')\n",
    "df.show(5,truncate=False)"
   ]
  },
  {
   "cell_type": "markdown",
   "metadata": {
    "id": "VtjPXl_uZGLY"
   },
   "source": [
    "DataFrame Operations on Rows\n",
    "We will discuss the follwoing in this section:\n",
    "\n",
    "1. Filtering Rows\n",
    "2. Get Distinct Rows\n",
    "3. Sorting Rows\n",
    "4. Union Dataframes"
   ]
  },
  {
   "cell_type": "markdown",
   "metadata": {
    "id": "JMUDYb8zZO9j"
   },
   "source": [
    "Filtering Rows"
   ]
  },
  {
   "cell_type": "code",
   "execution_count": null,
   "metadata": {
    "colab": {
     "base_uri": "https://localhost:8080/"
    },
    "id": "EsPs3GUBZC4o",
    "outputId": "012dfafb-3369-46ee-afac-c5de2ae1203c"
   },
   "outputs": [
    {
     "data": {
      "application/vnd.code.notebook.stdout": [
       "TOTAL RECORD COUNT: 406\n",
       "EUROPE FILTERED RECORD COUNT: 73\n",
       "+----------------------------+----+---------+------------+----------+------+------------+-----+------+-------------------------------+\n",
       "|Car                         |MPG |Cylinders|Displacement|Horsepower|Weight|Acceleration|Model|Origin|car_model                      |\n",
       "+----------------------------+----+---------+------------+----------+------+------------+-----+------+-------------------------------+\n",
       "|Citroen DS-21 Pallas        |0.0 |4        |133.0       |115.0     |3090.0|17.5        |70   |Europe|Citroen DS-21 Pallas 70        |\n",
       "|Volkswagen 1131 Deluxe Sedan|26.0|4        |97.0        |46.0      |1835.0|20.5        |70   |Europe|Volkswagen 1131 Deluxe Sedan 70|\n",
       "|Peugeot 504                 |25.0|4        |110.0       |87.0      |2672.0|17.5        |70   |Europe|Peugeot 504 70                 |\n",
       "|Audi 100 LS                 |24.0|4        |107.0       |90.0      |2430.0|14.5        |70   |Europe|Audi 100 LS 70                 |\n",
       "|Saab 99e                    |25.0|4        |104.0       |95.0      |2375.0|17.5        |70   |Europe|Saab 99e 70                    |\n",
       "|BMW 2002                    |26.0|4        |121.0       |113.0     |2234.0|12.5        |70   |Europe|BMW 2002 70                    |\n",
       "|Volkswagen Super Beetle 117 |0.0 |4        |97.0        |48.0      |1978.0|20.0        |71   |Europe|Volkswagen Super Beetle 117 71 |\n",
       "|Opel 1900                   |28.0|4        |116.0       |90.0      |2123.0|14.0        |71   |Europe|Opel 1900 71                   |\n",
       "|Peugeot 304                 |30.0|4        |79.0        |70.0      |2074.0|19.5        |71   |Europe|Peugeot 304 71                 |\n",
       "|Fiat 124B                   |30.0|4        |88.0        |76.0      |2065.0|14.5        |71   |Europe|Fiat 124B 71                   |\n",
       "|Volkswagen Model 111        |27.0|4        |97.0        |60.0      |1834.0|19.0        |71   |Europe|Volkswagen Model 111 71        |\n",
       "|Volkswagen Type 3           |23.0|4        |97.0        |54.0      |2254.0|23.5        |72   |Europe|Volkswagen Type 3 72           |\n",
       "|Volvo 145e (sw)             |18.0|4        |121.0       |112.0     |2933.0|14.5        |72   |Europe|Volvo 145e (sw) 72             |\n",
       "|Volkswagen 411 (sw)         |22.0|4        |121.0       |76.0      |2511.0|18.0        |72   |Europe|Volkswagen 411 (sw) 72         |\n",
       "|Peugeot 504 (sw)            |21.0|4        |120.0       |87.0      |2979.0|19.5        |72   |Europe|Peugeot 504 (sw) 72            |\n",
       "|Renault 12 (sw)             |26.0|4        |96.0        |69.0      |2189.0|18.0        |72   |Europe|Renault 12 (sw) 72             |\n",
       "|Volkswagen Super Beetle     |26.0|4        |97.0        |46.0      |1950.0|21.0        |73   |Europe|Volkswagen Super Beetle 73     |\n",
       "|Fiat 124 Sport Coupe        |26.0|4        |98.0        |90.0      |2265.0|15.5        |73   |Europe|Fiat 124 Sport Coupe 73        |\n",
       "|Fiat 128                    |29.0|4        |68.0        |49.0      |1867.0|19.5        |73   |Europe|Fiat 128 73                    |\n",
       "|Opel Manta                  |24.0|4        |116.0       |75.0      |2158.0|15.5        |73   |Europe|Opel Manta 73                  |\n",
       "+----------------------------+----+---------+------------+----------+------+------------+-----+------+-------------------------------+\n",
       "only showing top 20 rows\n",
       "\n"
      ]
     },
     "output_type": "unknown"
    }
   ],
   "source": [
    "# Filtering rows in PySpark\n",
    "total_count = df.count()\n",
    "print(\"TOTAL RECORD COUNT: \" + str(total_count)) \n",
    "europe_filtered_count = df.filter(col('Origin')=='Europe').count()\n",
    "print(\"EUROPE FILTERED RECORD COUNT: \" + str(europe_filtered_count))\n",
    "df.filter(col('Origin')=='Europe').show(truncate=False)"
   ]
  },
  {
   "cell_type": "code",
   "execution_count": null,
   "metadata": {
    "colab": {
     "base_uri": "https://localhost:8080/"
    },
    "id": "-qsby4nQZRs1",
    "outputId": "d07b3dba-6396-4fab-ac09-c4e81203538d"
   },
   "outputs": [
    {
     "data": {
      "application/vnd.code.notebook.stdout": [
       "TOTAL RECORD COUNT: 406\n",
       "EUROPE FILTERED RECORD COUNT: 66\n",
       "+----------------------------+----+---------+------------+----------+------+------------+-----+------+-------------------------------+\n",
       "|Car                         |MPG |Cylinders|Displacement|Horsepower|Weight|Acceleration|Model|Origin|car_model                      |\n",
       "+----------------------------+----+---------+------------+----------+------+------------+-----+------+-------------------------------+\n",
       "|Citroen DS-21 Pallas        |0.0 |4        |133.0       |115.0     |3090.0|17.5        |70   |Europe|Citroen DS-21 Pallas 70        |\n",
       "|Volkswagen 1131 Deluxe Sedan|26.0|4        |97.0        |46.0      |1835.0|20.5        |70   |Europe|Volkswagen 1131 Deluxe Sedan 70|\n",
       "|Peugeot 504                 |25.0|4        |110.0       |87.0      |2672.0|17.5        |70   |Europe|Peugeot 504 70                 |\n",
       "|Audi 100 LS                 |24.0|4        |107.0       |90.0      |2430.0|14.5        |70   |Europe|Audi 100 LS 70                 |\n",
       "|Saab 99e                    |25.0|4        |104.0       |95.0      |2375.0|17.5        |70   |Europe|Saab 99e 70                    |\n",
       "|BMW 2002                    |26.0|4        |121.0       |113.0     |2234.0|12.5        |70   |Europe|BMW 2002 70                    |\n",
       "|Volkswagen Super Beetle 117 |0.0 |4        |97.0        |48.0      |1978.0|20.0        |71   |Europe|Volkswagen Super Beetle 117 71 |\n",
       "|Opel 1900                   |28.0|4        |116.0       |90.0      |2123.0|14.0        |71   |Europe|Opel 1900 71                   |\n",
       "|Peugeot 304                 |30.0|4        |79.0        |70.0      |2074.0|19.5        |71   |Europe|Peugeot 304 71                 |\n",
       "|Fiat 124B                   |30.0|4        |88.0        |76.0      |2065.0|14.5        |71   |Europe|Fiat 124B 71                   |\n",
       "|Volkswagen Model 111        |27.0|4        |97.0        |60.0      |1834.0|19.0        |71   |Europe|Volkswagen Model 111 71        |\n",
       "|Volkswagen Type 3           |23.0|4        |97.0        |54.0      |2254.0|23.5        |72   |Europe|Volkswagen Type 3 72           |\n",
       "|Volvo 145e (sw)             |18.0|4        |121.0       |112.0     |2933.0|14.5        |72   |Europe|Volvo 145e (sw) 72             |\n",
       "|Volkswagen 411 (sw)         |22.0|4        |121.0       |76.0      |2511.0|18.0        |72   |Europe|Volkswagen 411 (sw) 72         |\n",
       "|Peugeot 504 (sw)            |21.0|4        |120.0       |87.0      |2979.0|19.5        |72   |Europe|Peugeot 504 (sw) 72            |\n",
       "|Renault 12 (sw)             |26.0|4        |96.0        |69.0      |2189.0|18.0        |72   |Europe|Renault 12 (sw) 72             |\n",
       "|Volkswagen Super Beetle     |26.0|4        |97.0        |46.0      |1950.0|21.0        |73   |Europe|Volkswagen Super Beetle 73     |\n",
       "|Fiat 124 Sport Coupe        |26.0|4        |98.0        |90.0      |2265.0|15.5        |73   |Europe|Fiat 124 Sport Coupe 73        |\n",
       "|Fiat 128                    |29.0|4        |68.0        |49.0      |1867.0|19.5        |73   |Europe|Fiat 128 73                    |\n",
       "|Opel Manta                  |24.0|4        |116.0       |75.0      |2158.0|15.5        |73   |Europe|Opel Manta 73                  |\n",
       "+----------------------------+----+---------+------------+----------+------+------------+-----+------+-------------------------------+\n",
       "only showing top 20 rows\n",
       "\n"
      ]
     },
     "output_type": "unknown"
    }
   ],
   "source": [
    "# Filtering rows in PySpark based on Multiple conditions\n",
    "total_count = df.count()\n",
    "print(\"TOTAL RECORD COUNT: \" + str(total_count)) \n",
    "europe_filtered_count = df.filter((col('Origin')=='Europe') & \n",
    "                                  (col('Cylinders')==4)).count() # Two conditions added here\n",
    "print(\"EUROPE FILTERED RECORD COUNT: \" + str(europe_filtered_count))\n",
    "df.filter(col('Origin')=='Europe').show(truncate=False)"
   ]
  },
  {
   "cell_type": "markdown",
   "metadata": {
    "id": "ZCiUGkYpZXCW"
   },
   "source": [
    "Get Distinct Rows\n"
   ]
  },
  {
   "cell_type": "code",
   "execution_count": null,
   "metadata": {
    "colab": {
     "base_uri": "https://localhost:8080/"
    },
    "id": "FqPlYQUnZU-M",
    "outputId": "2208cc75-feb9-4286-dbf8-bb23c29fcf7f"
   },
   "outputs": [
    {
     "data": {
      "application/vnd.code.notebook.stdout": [
       "+------+\n",
       "|Origin|\n",
       "+------+\n",
       "|Europe|\n",
       "|    US|\n",
       "| Japan|\n",
       "+------+\n",
       "\n"
      ]
     },
     "output_type": "unknown"
    }
   ],
   "source": [
    "#Get Unique Rows in PySpark\n",
    "df.select('Origin').distinct().show()"
   ]
  },
  {
   "cell_type": "code",
   "execution_count": null,
   "metadata": {
    "colab": {
     "base_uri": "https://localhost:8080/"
    },
    "id": "Z2S0CjtFZZLi",
    "outputId": "12ae0d3d-6c1f-4a40-cbe3-db07c35f88aa"
   },
   "outputs": [
    {
     "data": {
      "application/vnd.code.notebook.stdout": [
       "+------+-----+\n",
       "|Origin|model|\n",
       "+------+-----+\n",
       "|Europe|   71|\n",
       "|Europe|   80|\n",
       "|Europe|   79|\n",
       "| Japan|   75|\n",
       "|    US|   72|\n",
       "|    US|   80|\n",
       "|Europe|   74|\n",
       "| Japan|   79|\n",
       "|Europe|   76|\n",
       "|    US|   75|\n",
       "| Japan|   77|\n",
       "|    US|   82|\n",
       "| Japan|   80|\n",
       "| Japan|   78|\n",
       "|    US|   78|\n",
       "|Europe|   75|\n",
       "|    US|   71|\n",
       "|    US|   77|\n",
       "| Japan|   70|\n",
       "| Japan|   71|\n",
       "+------+-----+\n",
       "only showing top 20 rows\n",
       "\n"
      ]
     },
     "output_type": "unknown"
    }
   ],
   "source": [
    "#Get Unique Rows in PySpark based on mutliple columns\n",
    "df.select('Origin','model').distinct().show()"
   ]
  },
  {
   "cell_type": "markdown",
   "metadata": {
    "id": "SLdgRO1kZdyT"
   },
   "source": [
    "Sorting Rows"
   ]
  },
  {
   "cell_type": "code",
   "execution_count": null,
   "metadata": {
    "colab": {
     "base_uri": "https://localhost:8080/"
    },
    "id": "e-MHTEV2Zbsr",
    "outputId": "e796f57b-d7fb-4a72-9bbe-10c757f75e9d"
   },
   "outputs": [
    {
     "data": {
      "application/vnd.code.notebook.stdout": [
       "+----------------------------+----+---------+------------+----------+------+------------+-----+------+-------------------------------+\n",
       "|Car                         |MPG |Cylinders|Displacement|Horsepower|Weight|Acceleration|Model|Origin|car_model                      |\n",
       "+----------------------------+----+---------+------------+----------+------+------------+-----+------+-------------------------------+\n",
       "|Mazda RX-4                  |21.5|3        |80.0        |110.0     |2720.0|13.5        |77   |Japan |Mazda RX-4 77                  |\n",
       "|Mazda RX-7 GS               |23.7|3        |70.0        |100.0     |2420.0|12.5        |80   |Japan |Mazda RX-7 GS 80               |\n",
       "|Mazda RX2 Coupe             |19.0|3        |70.0        |97.0      |2330.0|13.5        |72   |Japan |Mazda RX2 Coupe 72             |\n",
       "|Mazda RX3                   |18.0|3        |70.0        |90.0      |2124.0|13.5        |73   |Japan |Mazda RX3 73                   |\n",
       "|Datsun 510 (sw)             |28.0|4        |97.0        |92.0      |2288.0|17.0        |72   |Japan |Datsun 510 (sw) 72             |\n",
       "|Opel 1900                   |28.0|4        |116.0       |90.0      |2123.0|14.0        |71   |Europe|Opel 1900 71                   |\n",
       "|Mercury Capri 2000          |23.0|4        |122.0       |86.0      |2220.0|14.0        |71   |US    |Mercury Capri 2000 71          |\n",
       "|Volkswagen 1131 Deluxe Sedan|26.0|4        |97.0        |46.0      |1835.0|20.5        |70   |Europe|Volkswagen 1131 Deluxe Sedan 70|\n",
       "|Peugeot 304                 |30.0|4        |79.0        |70.0      |2074.0|19.5        |71   |Europe|Peugeot 304 71                 |\n",
       "|Fiat 124B                   |30.0|4        |88.0        |76.0      |2065.0|14.5        |71   |Europe|Fiat 124B 71                   |\n",
       "|Chevrolet Vega (sw)         |22.0|4        |140.0       |72.0      |2408.0|19.0        |71   |US    |Chevrolet Vega (sw) 71         |\n",
       "|Datsun 1200                 |35.0|4        |72.0        |69.0      |1613.0|18.0        |71   |Japan |Datsun 1200 71                 |\n",
       "|Volkswagen Model 111        |27.0|4        |97.0        |60.0      |1834.0|19.0        |71   |Europe|Volkswagen Model 111 71        |\n",
       "|Volkswagen Type 3           |23.0|4        |97.0        |54.0      |2254.0|23.5        |72   |Europe|Volkswagen Type 3 72           |\n",
       "|Audi 100 LS                 |24.0|4        |107.0       |90.0      |2430.0|14.5        |70   |Europe|Audi 100 LS 70                 |\n",
       "|BMW 2002                    |26.0|4        |121.0       |113.0     |2234.0|12.5        |70   |Europe|BMW 2002 70                    |\n",
       "|Toyota Corolla 1200         |31.0|4        |71.0        |65.0      |1773.0|19.0        |71   |Japan |Toyota Corolla 1200 71         |\n",
       "|Chevrolet Vega 2300         |28.0|4        |140.0       |90.0      |2264.0|15.5        |71   |US    |Chevrolet Vega 2300 71         |\n",
       "|Ford Pinto                  |25.0|4        |98.0        |0.0       |2046.0|19.0        |71   |US    |Ford Pinto 71                  |\n",
       "|Dodge Colt Hardtop          |25.0|4        |97.5        |80.0      |2126.0|17.0        |72   |US    |Dodge Colt Hardtop 72          |\n",
       "+----------------------------+----+---------+------------+----------+------+------------+-----+------+-------------------------------+\n",
       "only showing top 20 rows\n",
       "\n"
      ]
     },
     "output_type": "unknown"
    }
   ],
   "source": [
    "# Sort Rows in PySpark\n",
    "# By default the data will be sorted in ascending order\n",
    "df.orderBy('Cylinders').show(truncate=False) "
   ]
  },
  {
   "cell_type": "code",
   "execution_count": null,
   "metadata": {
    "colab": {
     "base_uri": "https://localhost:8080/"
    },
    "id": "DXfjC65FZf_n",
    "outputId": "4d7496d1-2a1f-4f08-dff2-b7d35b915cc8"
   },
   "outputs": [
    {
     "data": {
      "application/vnd.code.notebook.stdout": [
       "+-------------------------+----+---------+------------+----------+------+------------+-----+------+----------------------------+\n",
       "|Car                      |MPG |Cylinders|Displacement|Horsepower|Weight|Acceleration|Model|Origin|car_model                   |\n",
       "+-------------------------+----+---------+------------+----------+------+------------+-----+------+----------------------------+\n",
       "|Plymouth 'Cuda 340       |14.0|8        |340.0       |160.0     |3609.0|8.0         |70   |US    |Plymouth 'Cuda 340 70       |\n",
       "|Pontiac Safari (sw)      |13.0|8        |400.0       |175.0     |5140.0|12.0        |71   |US    |Pontiac Safari (sw) 71      |\n",
       "|Ford Mustang Boss 302    |0.0 |8        |302.0       |140.0     |3353.0|8.0         |70   |US    |Ford Mustang Boss 302 70    |\n",
       "|Buick Skylark 320        |15.0|8        |350.0       |165.0     |3693.0|11.5        |70   |US    |Buick Skylark 320 70        |\n",
       "|Chevrolet Monte Carlo    |15.0|8        |400.0       |150.0     |3761.0|9.5         |70   |US    |Chevrolet Monte Carlo 70    |\n",
       "|AMC Rebel SST            |16.0|8        |304.0       |150.0     |3433.0|12.0        |70   |US    |AMC Rebel SST 70            |\n",
       "|Buick Estate Wagon (sw)  |14.0|8        |455.0       |225.0     |3086.0|10.0        |70   |US    |Buick Estate Wagon (sw) 70  |\n",
       "|Ford Galaxie 500         |15.0|8        |429.0       |198.0     |4341.0|10.0        |70   |US    |Ford Galaxie 500 70         |\n",
       "|Ford F250                |10.0|8        |360.0       |215.0     |4615.0|14.0        |70   |US    |Ford F250 70                |\n",
       "|Plymouth Fury iii        |14.0|8        |440.0       |215.0     |4312.0|8.5         |70   |US    |Plymouth Fury iii 70        |\n",
       "|Chevy C20                |10.0|8        |307.0       |200.0     |4376.0|15.0        |70   |US    |Chevy C20 70                |\n",
       "|AMC Ambassador DPL       |15.0|8        |390.0       |190.0     |3850.0|8.5         |70   |US    |AMC Ambassador DPL 70       |\n",
       "|Dodge D200               |11.0|8        |318.0       |210.0     |4382.0|13.5        |70   |US    |Dodge D200 70               |\n",
       "|Ford Torino (sw)         |0.0 |8        |351.0       |153.0     |4034.0|11.0        |70   |US    |Ford Torino (sw) 70         |\n",
       "|Hi 1200D                 |9.0 |8        |304.0       |193.0     |4732.0|18.5        |70   |US    |Hi 1200D 70                 |\n",
       "|AMC Rebel SST (sw)       |0.0 |8        |360.0       |175.0     |3850.0|11.0        |70   |US    |AMC Rebel SST (sw) 70       |\n",
       "|Chevrolet Impala         |14.0|8        |350.0       |165.0     |4209.0|12.0        |71   |US    |Chevrolet Impala 71         |\n",
       "|Chevrolet Chevelle Malibu|18.0|8        |307.0       |130.0     |3504.0|12.0        |70   |US    |Chevrolet Chevelle Malibu 70|\n",
       "|Pontiac Catalina Brougham|14.0|8        |400.0       |175.0     |4464.0|11.5        |71   |US    |Pontiac Catalina Brougham 71|\n",
       "|Ford Torino              |17.0|8        |302.0       |140.0     |3449.0|10.5        |70   |US    |Ford Torino 70              |\n",
       "+-------------------------+----+---------+------------+----------+------+------------+-----+------+----------------------------+\n",
       "only showing top 20 rows\n",
       "\n"
      ]
     },
     "output_type": "unknown"
    }
   ],
   "source": [
    "# To change the sorting order, you can use the ascending parameter\n",
    "df.orderBy('Cylinders', ascending=False).show(truncate=False) "
   ]
  },
  {
   "cell_type": "code",
   "execution_count": null,
   "metadata": {
    "colab": {
     "base_uri": "https://localhost:8080/"
    },
    "id": "W471LX3xZiu4",
    "outputId": "cc2f574b-acff-43ff-cf14-90be5e82f136"
   },
   "outputs": [
    {
     "data": {
      "application/vnd.code.notebook.stdout": [
       "+------+-----+\n",
       "|Origin|count|\n",
       "+------+-----+\n",
       "|    US|  254|\n",
       "| Japan|   79|\n",
       "|Europe|   73|\n",
       "+------+-----+\n",
       "\n"
      ]
     },
     "output_type": "unknown"
    }
   ],
   "source": [
    "# Using groupBy aand orderBy together\n",
    "df.groupBy(\"Origin\").count().orderBy('count', ascending=False).show(10)"
   ]
  },
  {
   "cell_type": "markdown",
   "metadata": {
    "id": "4zQy1856ZyUq"
   },
   "source": [
    "###Union Dataframes\n",
    "You will see three main methods for performing union of dataframes. It is important to know the difference between them and which one is preferred:\n",
    "\n",
    "-->union() – It is used to merge two DataFrames of the same structure/schema. If schemas are not the same, it returns an error\n",
    "\n",
    "-->unionAll() – This function is deprecated since Spark 2.0.0, and replaced with union()\n",
    "\n",
    "-->unionByName() - This function is used to merge two dataframes based on column name.\n",
    "Since unionAll() is deprecated, union() is the preferred method for merging dataframes.\n",
    "The difference between unionByName() and union() is that unionByName() resolves columns by name, not by position.\n",
    "\n",
    "In other SQLs, Union eliminates the duplicates but UnionAll merges two datasets, thereby including duplicate records. But, in PySpark, both behave the same and includes duplicate records. The recommendation is to use distinct() or dropDuplicates() to remove duplicate records."
   ]
  },
  {
   "cell_type": "code",
   "execution_count": null,
   "metadata": {
    "colab": {
     "base_uri": "https://localhost:8080/"
    },
    "id": "llhUvx7kZlET",
    "outputId": "84ec445e-f1a9-46de-85b3-7d5f99125224"
   },
   "outputs": [
    {
     "data": {
      "application/vnd.code.notebook.stdout": [
       "EUROPE CARS: 3\n",
       "JAPAN CARS: 4\n",
       "AFTER UNION: 7\n"
      ]
     },
     "output_type": "unknown"
    }
   ],
   "source": [
    "# CASE 1: Union When columns are in order\n",
    "df = spark.read.csv('cars.csv', header=True, sep=\";\", inferSchema=True)\n",
    "europe_cars = df.filter((col('Origin')=='Europe') & (col('Cylinders')==5))\n",
    "japan_cars = df.filter((col('Origin')=='Japan') & (col('Cylinders')==3))\n",
    "print(\"EUROPE CARS: \"+str(europe_cars.count()))\n",
    "print(\"JAPAN CARS: \"+str(japan_cars.count()))\n",
    "print(\"AFTER UNION: \"+str(europe_cars.union(japan_cars).count()))"
   ]
  },
  {
   "cell_type": "markdown",
   "metadata": {
    "id": "dpz2PzmsaJh1"
   },
   "source": [
    "Result:\n",
    "\n",
    "As you can see here, there were 3 cars from Europe with 5 Cylinders, and 4 cars from Japan with 3 Cylinders. After union, there are 7 cars in total."
   ]
  },
  {
   "cell_type": "code",
   "execution_count": null,
   "metadata": {
    "colab": {
     "base_uri": "https://localhost:8080/"
    },
    "id": "6FxZ_X1saD5p",
    "outputId": "ab18dc2c-8b76-4527-db5e-4b799080942b"
   },
   "outputs": [
    {
     "data": {
      "application/vnd.code.notebook.stdout": [
       "+----+----+----+\n",
       "|col0|col1|col2|\n",
       "+----+----+----+\n",
       "|   1|   2|   3|\n",
       "|   6|   4|   5|\n",
       "+----+----+----+\n",
       "\n"
      ]
     },
     "output_type": "unknown"
    }
   ],
   "source": [
    "# CASE 1: Union When columns are not in order\n",
    "# Creating two dataframes with jumbled columns\n",
    "df1 = spark.createDataFrame([[1, 2, 3]], [\"col0\", \"col1\", \"col2\"])\n",
    "df2 = spark.createDataFrame([[4, 5, 6]], [\"col1\", \"col2\", \"col0\"])\n",
    "df1.unionByName(df2).show()"
   ]
  },
  {
   "cell_type": "markdown",
   "metadata": {
    "id": "gWQBhkUhaO2q"
   },
   "source": [
    "Result:\n",
    "\n",
    "As you can see here, the two dataframes have been successfully merged based on their column names."
   ]
  },
  {
   "cell_type": "markdown",
   "metadata": {
    "id": "sFZjXSnpaRi8"
   },
   "source": [
    "###Common Data Manipulation Functions"
   ]
  },
  {
   "cell_type": "code",
   "execution_count": null,
   "metadata": {
    "colab": {
     "base_uri": "https://localhost:8080/"
    },
    "id": "4aGrzwSLaMVH",
    "outputId": "ebd1d6ad-9785-4b08-c564-44525d88cacb"
   },
   "outputs": [
    {
     "data": {
      "application/vnd.code.notebook.stdout": [
       "['Column', 'DataFrame', 'DataType', 'PandasUDFType', 'PythonEvalType', 'SparkContext', 'StringType', 'UserDefinedFunction', '__builtins__', '__cached__', '__doc__', '__file__', '__loader__', '__name__', '__package__', '__spec__', '_create_column_from_literal', '_create_lambda', '_create_udf', '_get_get_jvm_function', '_get_lambda_parameters', '_invoke_binary_math_function', '_invoke_function', '_invoke_function_over_column', '_invoke_higher_order_function', '_options_to_str', '_test', '_to_java_column', '_to_seq', '_unresolved_named_lambda_variable', 'abs', 'acos', 'acosh', 'add_months', 'aggregate', 'approxCountDistinct', 'approx_count_distinct', 'array', 'array_contains', 'array_distinct', 'array_except', 'array_intersect', 'array_join', 'array_max', 'array_min', 'array_position', 'array_remove', 'array_repeat', 'array_sort', 'array_union', 'arrays_overlap', 'arrays_zip', 'asc', 'asc_nulls_first', 'asc_nulls_last', 'ascii', 'asin', 'asinh', 'assert_true', 'atan', 'atan2', 'atanh', 'avg', 'base64', 'bin', 'bitwiseNOT', 'broadcast', 'bround', 'bucket', 'cbrt', 'ceil', 'coalesce', 'col', 'collect_list', 'collect_set', 'column', 'concat', 'concat_ws', 'conv', 'corr', 'cos', 'cosh', 'count', 'countDistinct', 'covar_pop', 'covar_samp', 'crc32', 'create_map', 'cume_dist', 'current_date', 'current_timestamp', 'date_add', 'date_format', 'date_sub', 'date_trunc', 'datediff', 'dayofmonth', 'dayofweek', 'dayofyear', 'days', 'decode', 'degrees', 'dense_rank', 'desc', 'desc_nulls_first', 'desc_nulls_last', 'element_at', 'encode', 'exists', 'exp', 'explode', 'explode_outer', 'expm1', 'expr', 'factorial', 'filter', 'first', 'flatten', 'floor', 'forall', 'format_number', 'format_string', 'from_csv', 'from_json', 'from_unixtime', 'from_utc_timestamp', 'functools', 'get_json_object', 'greatest', 'grouping', 'grouping_id', 'hash', 'hex', 'hour', 'hours', 'hypot', 'initcap', 'input_file_name', 'instr', 'isnan', 'isnull', 'json_tuple', 'kurtosis', 'lag', 'last', 'last_day', 'lead', 'least', 'length', 'levenshtein', 'lit', 'locate', 'log', 'log10', 'log1p', 'log2', 'lower', 'lpad', 'ltrim', 'map_concat', 'map_entries', 'map_filter', 'map_from_arrays', 'map_from_entries', 'map_keys', 'map_values', 'map_zip_with', 'max', 'md5', 'mean', 'min', 'minute', 'monotonically_increasing_id', 'month', 'months', 'months_between', 'nanvl', 'next_day', 'nth_value', 'ntile', 'overlay', 'pandas_udf', 'percent_rank', 'percentile_approx', 'posexplode', 'posexplode_outer', 'pow', 'quarter', 'radians', 'raise_error', 'rand', 'randn', 'rank', 'regexp_extract', 'regexp_replace', 'repeat', 'reverse', 'rint', 'round', 'row_number', 'rpad', 'rtrim', 'schema_of_csv', 'schema_of_json', 'second', 'sequence', 'sha1', 'sha2', 'shiftLeft', 'shiftRight', 'shiftRightUnsigned', 'shuffle', 'signum', 'sin', 'since', 'sinh', 'size', 'skewness', 'slice', 'sort_array', 'soundex', 'spark_partition_id', 'split', 'sqrt', 'stddev', 'stddev_pop', 'stddev_samp', 'struct', 'substring', 'substring_index', 'sum', 'sumDistinct', 'sys', 'tan', 'tanh', 'timestamp_seconds', 'toDegrees', 'toRadians', 'to_csv', 'to_date', 'to_json', 'to_str', 'to_timestamp', 'to_utc_timestamp', 'transform', 'transform_keys', 'transform_values', 'translate', 'trim', 'trunc', 'udf', 'unbase64', 'unhex', 'unix_timestamp', 'upper', 'var_pop', 'var_samp', 'variance', 'warnings', 'weekofyear', 'when', 'window', 'xxhash64', 'year', 'years', 'zip_with']\n"
      ]
     },
     "output_type": "unknown"
    }
   ],
   "source": [
    "# Functions available in PySpark\n",
    "from pyspark.sql import functions\n",
    "# Similar to python, we can use the dir function to view the avaiable functions\n",
    "print(dir(functions)) "
   ]
  },
  {
   "cell_type": "markdown",
   "metadata": {
    "id": "1MFxTJDraYA4"
   },
   "source": [
    "String Functions"
   ]
  },
  {
   "cell_type": "code",
   "execution_count": null,
   "metadata": {
    "id": "QkKQlH7jaU1u"
   },
   "outputs": [],
   "source": [
    "# Loading the data\n",
    "from pyspark.sql.functions import col\n",
    "df = spark.read.csv('cars.csv', header=True, sep=\";\", inferSchema=True)"
   ]
  },
  {
   "cell_type": "markdown",
   "metadata": {
    "id": "_TMIm3LAacpG"
   },
   "source": [
    "Display the Car column in exisitng, lower and upper characters, and the first 4 characters of the column"
   ]
  },
  {
   "cell_type": "code",
   "execution_count": null,
   "metadata": {
    "colab": {
     "base_uri": "https://localhost:8080/"
    },
    "id": "zAicDAxJaaD3",
    "outputId": "634cce11-fd6f-4588-e185-9e3992eddb6a"
   },
   "outputs": [
    {
     "data": {
      "application/vnd.code.notebook.stdout": [
       "Help on function substring in module pyspark.sql.functions:\n",
       "\n",
       "substring(str, pos, len)\n",
       "    Substring starts at `pos` and is of length `len` when str is String type or\n",
       "    returns the slice of byte array that starts at `pos` in byte and is of length `len`\n",
       "    when str is Binary type.\n",
       "    \n",
       "    .. versionadded:: 1.5.0\n",
       "    \n",
       "    Notes\n",
       "    -----\n",
       "    The position is not zero based, but 1 based index.\n",
       "    \n",
       "    Examples\n",
       "    --------\n",
       "    >>> df = spark.createDataFrame([('abcd',)], ['s',])\n",
       "    >>> df.select(substring(df.s, 1, 2).alias('s')).collect()\n",
       "    [Row(s='ab')]\n",
       "\n",
       "+-------------------------+-------------------------+-------------------------+------------------+\n",
       "|Car                      |lower(Car)               |upper(Car)               |concatenated value|\n",
       "+-------------------------+-------------------------+-------------------------+------------------+\n",
       "|Chevrolet Chevelle Malibu|chevrolet chevelle malibu|CHEVROLET CHEVELLE MALIBU|Chev              |\n",
       "|Buick Skylark 320        |buick skylark 320        |BUICK SKYLARK 320        |Buic              |\n",
       "|Plymouth Satellite       |plymouth satellite       |PLYMOUTH SATELLITE       |Plym              |\n",
       "|AMC Rebel SST            |amc rebel sst            |AMC REBEL SST            |AMC               |\n",
       "|Ford Torino              |ford torino              |FORD TORINO              |Ford              |\n",
       "+-------------------------+-------------------------+-------------------------+------------------+\n",
       "only showing top 5 rows\n",
       "\n"
      ]
     },
     "output_type": "unknown"
    }
   ],
   "source": [
    "from pyspark.sql.functions import col,lower, upper, substring\n",
    "# Prints out the details of a function\n",
    "help(substring)\n",
    "\n",
    "# alias is used to rename the column name in the output\n",
    "df.select(col('Car'),lower(col('Car')),upper(col('Car')),substring(col('Car'),1,4).alias(\"concatenated value\")).show(5, False)"
   ]
  },
  {
   "cell_type": "markdown",
   "metadata": {
    "id": "W9YrKdgQal5B"
   },
   "source": [
    "Concatenate the Car column and Model column and add a space between them."
   ]
  },
  {
   "cell_type": "code",
   "execution_count": null,
   "metadata": {
    "colab": {
     "base_uri": "https://localhost:8080/"
    },
    "id": "z77BV4OrafbF",
    "outputId": "f8a69b13-cc1b-4c8f-f24c-ff26031545f6"
   },
   "outputs": [
    {
     "data": {
      "application/vnd.code.notebook.stdout": [
       "+-------------------------+-----+----------------------------+\n",
       "|Car                      |model|concat(Car,  , model)       |\n",
       "+-------------------------+-----+----------------------------+\n",
       "|Chevrolet Chevelle Malibu|70   |Chevrolet Chevelle Malibu 70|\n",
       "|Buick Skylark 320        |70   |Buick Skylark 320 70        |\n",
       "|Plymouth Satellite       |70   |Plymouth Satellite 70       |\n",
       "|AMC Rebel SST            |70   |AMC Rebel SST 70            |\n",
       "|Ford Torino              |70   |Ford Torino 70              |\n",
       "+-------------------------+-----+----------------------------+\n",
       "only showing top 5 rows\n",
       "\n"
      ]
     },
     "output_type": "unknown"
    }
   ],
   "source": [
    "from pyspark.sql.functions import concat\n",
    "df.select(col(\"Car\"),col(\"model\"),concat(col(\"Car\"), lit(\" \"), col(\"model\"))).show(5, False)"
   ]
  },
  {
   "cell_type": "markdown",
   "metadata": {
    "id": "pW6Uoxxxaqfb"
   },
   "source": [
    "Numeric functions\n",
    "\n",
    "--> Show the oldest date and the most recent date"
   ]
  },
  {
   "cell_type": "code",
   "execution_count": null,
   "metadata": {
    "colab": {
     "base_uri": "https://localhost:8080/"
    },
    "id": "3tuXNlSYaobH",
    "outputId": "2357d889-c13a-4e02-df63-fc7bcfed7f3a"
   },
   "outputs": [
    {
     "data": {
      "application/vnd.code.notebook.stdout": [
       "+-----------+-----------+\n",
       "|min(Weight)|max(Weight)|\n",
       "+-----------+-----------+\n",
       "|       1613|       5140|\n",
       "+-----------+-----------+\n",
       "\n"
      ]
     },
     "output_type": "unknown"
    }
   ],
   "source": [
    "from pyspark.sql.functions import min, max\n",
    "df.select(min(col('Weight')), max(col('Weight'))).show()"
   ]
  },
  {
   "cell_type": "markdown",
   "metadata": {
    "id": "97G8yn2haxtQ"
   },
   "source": [
    "Add 10 to the minimum and maximum weight"
   ]
  },
  {
   "cell_type": "code",
   "execution_count": null,
   "metadata": {
    "colab": {
     "base_uri": "https://localhost:8080/"
    },
    "id": "hBfv26VzavDV",
    "outputId": "a0a14e1d-2a96-48c1-ddc1-88341422fc57"
   },
   "outputs": [
    {
     "data": {
      "application/vnd.code.notebook.stdout": [
       "+------------------+------------------+\n",
       "|(min(Weight) + 10)|max((Weight + 10))|\n",
       "+------------------+------------------+\n",
       "|              1623|              5150|\n",
       "+------------------+------------------+\n",
       "\n"
      ]
     },
     "output_type": "unknown"
    }
   ],
   "source": [
    "from pyspark.sql.functions import min, max, lit\n",
    "df.select(min(col('Weight'))+lit(10), max(col('Weight')+lit(10))).show()"
   ]
  },
  {
   "cell_type": "markdown",
   "metadata": {
    "id": "rl45WSSOa59_"
   },
   "source": [
    "Operations on Date\n",
    "\n",
    "-->PySpark follows SimpleDateFormat table of Java. Click here to view the docs."
   ]
  },
  {
   "cell_type": "code",
   "execution_count": null,
   "metadata": {
    "colab": {
     "base_uri": "https://localhost:8080/"
    },
    "id": "x9zUuws1a14C",
    "outputId": "9315e5ae-026b-4211-bf0e-555d438df995"
   },
   "outputs": [
    {
     "data": {
      "application/vnd.code.notebook.stdout": [
       "+-------------------+\n",
       "|                DOB|\n",
       "+-------------------+\n",
       "|2019-12-25 13:30:00|\n",
       "+-------------------+\n",
       "\n",
       "root\n",
       " |-- DOB: string (nullable = true)\n",
       "\n"
      ]
     },
     "output_type": "unknown"
    }
   ],
   "source": [
    "from pyspark.sql.functions import to_date, to_timestamp, lit\n",
    "df = spark.createDataFrame([('2019-12-25 13:30:00',)], ['DOB'])\n",
    "df.show()\n",
    "df.printSchema()"
   ]
  },
  {
   "cell_type": "code",
   "execution_count": null,
   "metadata": {
    "colab": {
     "base_uri": "https://localhost:8080/"
    },
    "id": "ka7d0C6za90-",
    "outputId": "b79b8ae7-92ea-4cef-c838-c8ac4f8037b0"
   },
   "outputs": [
    {
     "data": {
      "application/vnd.code.notebook.stdout": [
       "+-------------------+\n",
       "|                DOB|\n",
       "+-------------------+\n",
       "|2019-12-25 13:30:00|\n",
       "+-------------------+\n",
       "\n",
       "root\n",
       " |-- DOB: string (nullable = true)\n",
       "\n"
      ]
     },
     "output_type": "unknown"
    }
   ],
   "source": [
    "from pyspark.sql.functions import to_date, to_timestamp, lit\n",
    "df = spark.createDataFrame([('2019-12-25 13:30:00',)], ['DOB'])\n",
    "df.show()\n",
    "df.printSchema()"
   ]
  },
  {
   "cell_type": "code",
   "execution_count": null,
   "metadata": {
    "colab": {
     "base_uri": "https://localhost:8080/"
    },
    "id": "wvmiK5OvbAM_",
    "outputId": "1efc1449-7364-448e-d653-637589502c27"
   },
   "outputs": [
    {
     "data": {
      "application/vnd.code.notebook.stdout": [
       "+----------------------------------+---------------------------------------+\n",
       "|to_date(DOB, dd/MMM/yyyy HH:mm:ss)|to_timestamp(DOB, dd/MMM/yyyy HH:mm:ss)|\n",
       "+----------------------------------+---------------------------------------+\n",
       "|                        2019-12-25|                    2019-12-25 13:30:00|\n",
       "+----------------------------------+---------------------------------------+\n",
       "\n",
       "root\n",
       " |-- to_date(DOB, dd/MMM/yyyy HH:mm:ss): date (nullable = true)\n",
       " |-- to_timestamp(DOB, dd/MMM/yyyy HH:mm:ss): timestamp (nullable = true)\n",
       "\n"
      ]
     },
     "output_type": "unknown"
    }
   ],
   "source": [
    "df = spark.createDataFrame([('25/Dec/2019 13:30:00',)], ['DOB'])\n",
    "df = df.select(to_date(col('DOB'),'dd/MMM/yyyy HH:mm:ss'), to_timestamp(col('DOB'),'dd/MMM/yyyy HH:mm:ss'))\n",
    "df.show()\n",
    "df.printSchema()"
   ]
  },
  {
   "cell_type": "markdown",
   "metadata": {
    "id": "dhrST2D8bEdQ"
   },
   "source": [
    "What is 3 days earlier that the oldest date and 3 days later than the most recent date?"
   ]
  },
  {
   "cell_type": "code",
   "execution_count": null,
   "metadata": {
    "colab": {
     "base_uri": "https://localhost:8080/"
    },
    "id": "mbQi7NF_bCdg",
    "outputId": "84623df1-47cf-4b2e-d7ac-e580c7d1b65f"
   },
   "outputs": [
    {
     "data": {
      "application/vnd.code.notebook.stdout": [
       "+----------------------+----------------------+\n",
       "|date_add(max(Date), 3)|date_sub(min(Date), 3)|\n",
       "+----------------------+----------------------+\n",
       "|            2021-04-02|            1989-12-29|\n",
       "+----------------------+----------------------+\n",
       "\n"
      ]
     },
     "output_type": "unknown"
    }
   ],
   "source": [
    "from pyspark.sql.functions import date_add, date_sub\n",
    "# create a dummy dataframe\n",
    "df = spark.createDataFrame([('1990-01-01',),('1995-01-03',),('2021-03-30',)], ['Date'])\n",
    "# find out the required dates\n",
    "df.select(date_add(max(col('Date')),3), date_sub(min(col('Date')),3)).show()"
   ]
  },
  {
   "cell_type": "markdown",
   "metadata": {
    "id": "l39FUiA9bJVC"
   },
   "source": [
    "###Joins in PySpark"
   ]
  },
  {
   "cell_type": "code",
   "execution_count": null,
   "metadata": {
    "colab": {
     "base_uri": "https://localhost:8080/"
    },
    "id": "tM0nkChabGlt",
    "outputId": "e9f523ea-45b5-45ee-bd42-953c8cc63113"
   },
   "outputs": [
    {
     "data": {
      "application/vnd.code.notebook.stdout": [
       "+---+--------+\n",
       "| id|car_name|\n",
       "+---+--------+\n",
       "|  1|   Car A|\n",
       "|  2|   Car B|\n",
       "|  3|   Car C|\n",
       "+---+--------+\n",
       "\n",
       "+---+---------+\n",
       "| id|car_price|\n",
       "+---+---------+\n",
       "|  1|     1000|\n",
       "|  2|     2000|\n",
       "|  3|     3000|\n",
       "+---+---------+\n",
       "\n"
      ]
     },
     "output_type": "unknown"
    }
   ],
   "source": [
    "# Create two dataframes\n",
    "cars_df = spark.createDataFrame([[1, 'Car A'],[2, 'Car B'],[3, 'Car C']], [\"id\", \"car_name\"])\n",
    "car_price_df = spark.createDataFrame([[1, 1000],[2, 2000],[3, 3000]], [\"id\", \"car_price\"])\n",
    "cars_df.show()\n",
    "car_price_df.show()"
   ]
  },
  {
   "cell_type": "code",
   "execution_count": null,
   "metadata": {
    "colab": {
     "base_uri": "https://localhost:8080/"
    },
    "id": "z00juIHobNrj",
    "outputId": "98e5794e-1cc1-489d-d0df-f797e71d5eef"
   },
   "outputs": [
    {
     "data": {
      "application/vnd.code.notebook.stdout": [
       "+---+--------+---------+\n",
       "|id |car_name|car_price|\n",
       "+---+--------+---------+\n",
       "|1  |Car A   |1000     |\n",
       "|3  |Car C   |3000     |\n",
       "|2  |Car B   |2000     |\n",
       "+---+--------+---------+\n",
       "\n"
      ]
     },
     "output_type": "unknown"
    }
   ],
   "source": [
    "# Executing an inner join so we can see the id, name and price of each car in one row\n",
    "cars_df.join(car_price_df, cars_df.id == car_price_df.id, 'inner').select(cars_df['id'],cars_df['car_name'],car_price_df['car_price']).show(truncate=False)"
   ]
  },
  {
   "cell_type": "markdown",
   "metadata": {
    "id": "fMU2uml5bjK9"
   },
   "source": [
    "As you can see, we have done an inner join between two dataframes. The following joins are supported by PySpark:\n",
    "\n",
    "1. inner (default)\n",
    "2. cross\n",
    "3. outer\n",
    "4. full\n",
    "5. full_outer\n",
    "6. left\n",
    "7. left_outer\n",
    "8. right\n",
    "9. right_outer\n",
    "10. left_semi\n",
    "11. left_anti"
   ]
  },
  {
   "cell_type": "markdown",
   "metadata": {
    "id": "9FxZSFX3bznV"
   },
   "source": [
    "##Spark SQL\n",
    "SQL has been around since the 1970s, and so one can imagine the number of people who made it their bread and butter. As big data came into popularity, the number of professionals with the technical knowledge to deal with it was in shortage. This led to the creation of Spark SQL. To quote the docs:\n",
    "\n",
    "Spark SQL is a Spark module for structured data processing. Unlike the basic Spark RDD API, the interfaces provided by Spark SQL provide Spark with more information about the structure of both the data and the computation being performed. Internally, Spark SQL uses this extra information to perform extra optimizations.\n",
    "\n",
    "Basically, what you need to know is that Spark SQL is used to execute SQL queries on big data. Spark SQL can also be used to read data from Hive tables and views. Let me explain Spark SQL with an example."
   ]
  },
  {
   "cell_type": "code",
   "execution_count": null,
   "metadata": {
    "colab": {
     "base_uri": "https://localhost:8080/"
    },
    "id": "OnNKKW_wbQVm",
    "outputId": "d126472e-6b43-4741-ce38-002cd9c0972e"
   },
   "outputs": [
    {
     "data": {
      "application/vnd.code.notebook.stdout": [
       "+--------------------+----+---------+------------+----------+------+------------+-----+------+\n",
       "|                 Car| MPG|Cylinders|Displacement|Horsepower|Weight|Acceleration|Model|Origin|\n",
       "+--------------------+----+---------+------------+----------+------+------------+-----+------+\n",
       "|Chevrolet Chevell...|18.0|        8|       307.0|     130.0| 3504.|        12.0|   70|    US|\n",
       "|   Buick Skylark 320|15.0|        8|       350.0|     165.0| 3693.|        11.5|   70|    US|\n",
       "|  Plymouth Satellite|18.0|        8|       318.0|     150.0| 3436.|        11.0|   70|    US|\n",
       "|       AMC Rebel SST|16.0|        8|       304.0|     150.0| 3433.|        12.0|   70|    US|\n",
       "|         Ford Torino|17.0|        8|       302.0|     140.0| 3449.|        10.5|   70|    US|\n",
       "+--------------------+----+---------+------------+----------+------+------------+-----+------+\n",
       "\n",
       "+-----------+\n",
       "|total_count|\n",
       "+-----------+\n",
       "|        406|\n",
       "+-----------+\n",
       "\n"
      ]
     },
     "output_type": "unknown"
    }
   ],
   "source": [
    "# Load data\n",
    "df = spark.read.csv('cars.csv', header=True, sep=\";\")\n",
    "# Register Temporary Table\n",
    "df.createOrReplaceTempView(\"temp\")\n",
    "# Select all data from temp table\n",
    "spark.sql(\"select * from temp limit 5\").show()\n",
    "# Select count of data in table\n",
    "spark.sql(\"select count(*) as total_count from temp\").show()"
   ]
  },
  {
   "cell_type": "markdown",
   "metadata": {
    "id": "Lqk45QyfcDCZ"
   },
   "source": [
    "As you can see, we registered the dataframe as temporary table and then ran basic SQL queries on it. How amazing is that?!\n",
    "If you are a person who is more comfortable with SQL, then this feature is truly a blessing for you! But this raises a question:\n",
    "\n",
    "`Should I just keep using Spark SQL all the time?`\n",
    "\n",
    "**And the answer is, it depends.**\n",
    "\n",
    "So basically, the different functions acts in differnet ways, and depending upon the type of action you are trying to do, the speed at which it completes execution also differs. But as time progress, this feature is getting better and better, so hopefully the difference should be a small margin. There are plenty of analysis done on this, but nothing has a definite answer yet."
   ]
  },
  {
   "cell_type": "markdown",
   "metadata": {
    "id": "hCLL4Z4mcNB3"
   },
   "source": [
    "###RDD\n",
    "With map, you define a function and then apply it record by record. Flatmap returns a new RDD by first applying a function to all of the elements in RDDs and then flattening the result. Filter, returns a new RDD. Meaning only the elements that satisfy a condition. With reduce, we are taking neighboring elements and producing a single combined result. For example, let's say you have a set of numbers. You can reduce this to its sum by providing a function that takes as input two values and reduces them to one.\n",
    "\n",
    "Some of the reasons you would use a dataframe over RDD are:\n",
    "\n",
    "1. It's ability to represnt data as rows and columns. But this also means it can only hold structred and semi-structured data.\n",
    "2. It allows processing data in different formats (AVRO, CSV, JSON, and storage system HDFS, HIVE tables, MySQL).\n",
    "3. It's superior job Optimization capability.\n",
    "4. DataFrame API is very easy to use."
   ]
  },
  {
   "cell_type": "code",
   "execution_count": null,
   "metadata": {
    "colab": {
     "base_uri": "https://localhost:8080/"
    },
    "id": "z4v7CWlOb7G2",
    "outputId": "0cb028bc-5e48-4c64-e3ff-ce43f883f7bb"
   },
   "outputs": [
    {
     "data": {
      "application/vnd.code.notebook.stdout": [
       "Car;MPG;Cylinders;Displacement;Horsepower;Weight;Acceleration;Model;Origin\n",
       "Chevrolet Chevelle Malibu;18.0;8;307.0;130.0;3504.;12.0;70;US\n"
      ]
     },
     "output_type": "unknown"
    }
   ],
   "source": [
    "cars = spark.sparkContext.textFile('cars.csv')\n",
    "print(cars.first())\n",
    "cars_header = cars.first()\n",
    "cars_rest = cars.filter(lambda line: line!=cars_header)\n",
    "print(cars_rest.first())"
   ]
  },
  {
   "cell_type": "markdown",
   "metadata": {
    "id": "_pHMwVm8ceZ-"
   },
   "source": [
    "**How many cars are there in our csv data?**"
   ]
  },
  {
   "cell_type": "code",
   "execution_count": null,
   "metadata": {
    "colab": {
     "base_uri": "https://localhost:8080/"
    },
    "id": "IAO3G5vscaXz",
    "outputId": "bbbdc740-cc13-4de4-bb97-e57933782520"
   },
   "outputs": [
    {
     "data": {
      "text/plain": [
       "406"
      ]
     },
     "output_type": "unknown"
    }
   ],
   "source": [
    "cars_rest.map(lambda line: line.split(\";\")).count()"
   ]
  },
  {
   "cell_type": "markdown",
   "metadata": {
    "id": "lTklT05sckoi"
   },
   "source": [
    "**Display the Car name, MPG, Cylinders, Weight and Origin for the cars Originating in Europe**"
   ]
  },
  {
   "cell_type": "code",
   "execution_count": null,
   "metadata": {
    "colab": {
     "base_uri": "https://localhost:8080/"
    },
    "id": "KvW3tLUJciBq",
    "outputId": "e6902e09-e0d7-4692-c31b-f75a3d629dd6"
   },
   "outputs": [
    {
     "data": {
      "text/plain": [
       "[('Citroen DS-21 Pallas', '0', '4', '3090.', 'Europe'),\n",
       " ('Volkswagen 1131 Deluxe Sedan', '26.0', '4', '1835.', 'Europe'),\n",
       " ('Peugeot 504', '25.0', '4', '2672.', 'Europe'),\n",
       " ('Audi 100 LS', '24.0', '4', '2430.', 'Europe'),\n",
       " ('Saab 99e', '25.0', '4', '2375.', 'Europe'),\n",
       " ('BMW 2002', '26.0', '4', '2234.', 'Europe'),\n",
       " ('Volkswagen Super Beetle 117', '0', '4', '1978.', 'Europe'),\n",
       " ('Opel 1900', '28.0', '4', '2123.', 'Europe'),\n",
       " ('Peugeot 304', '30.0', '4', '2074.', 'Europe'),\n",
       " ('Fiat 124B', '30.0', '4', '2065.', 'Europe'),\n",
       " ('Volkswagen Model 111', '27.0', '4', '1834.', 'Europe'),\n",
       " ('Volkswagen Type 3', '23.0', '4', '2254.', 'Europe'),\n",
       " ('Volvo 145e (sw)', '18.0', '4', '2933.', 'Europe'),\n",
       " ('Volkswagen 411 (sw)', '22.0', '4', '2511.', 'Europe'),\n",
       " ('Peugeot 504 (sw)', '21.0', '4', '2979.', 'Europe'),\n",
       " ('Renault 12 (sw)', '26.0', '4', '2189.', 'Europe'),\n",
       " ('Volkswagen Super Beetle', '26.0', '4', '1950.', 'Europe'),\n",
       " ('Fiat 124 Sport Coupe', '26.0', '4', '2265.', 'Europe'),\n",
       " ('Fiat 128', '29.0', '4', '1867.', 'Europe'),\n",
       " ('Opel Manta', '24.0', '4', '2158.', 'Europe'),\n",
       " ('Audi 100LS', '20.0', '4', '2582.', 'Europe'),\n",
       " ('Volvo 144ea', '19.0', '4', '2868.', 'Europe'),\n",
       " ('Saab 99le', '24.0', '4', '2660.', 'Europe'),\n",
       " ('Audi Fox', '29.0', '4', '2219.', 'Europe'),\n",
       " ('Volkswagen Dasher', '26.0', '4', '1963.', 'Europe'),\n",
       " ('Opel Manta', '26.0', '4', '2300.', 'Europe'),\n",
       " ('Fiat 128', '24.0', '4', '2108.', 'Europe'),\n",
       " ('Fiat 124 TC', '26.0', '4', '2246.', 'Europe'),\n",
       " ('Fiat x1.9', '31.0', '4', '2000.', 'Europe'),\n",
       " ('Volkswagen Dasher', '25.0', '4', '2223.', 'Europe'),\n",
       " ('Volkswagen Rabbit', '29.0', '4', '1937.', 'Europe'),\n",
       " ('Audi 100LS', '23.0', '4', '2694.', 'Europe'),\n",
       " ('Peugeot 504', '23.0', '4', '2957.', 'Europe'),\n",
       " ('Volvo 244DL', '22.0', '4', '2945.', 'Europe'),\n",
       " ('Saab 99LE', '25.0', '4', '2671.', 'Europe'),\n",
       " ('Fiat 131', '28.0', '4', '2464.', 'Europe'),\n",
       " ('Opel 1900', '25.0', '4', '2220.', 'Europe'),\n",
       " ('Renault 12tl', '27.0', '4', '2202.', 'Europe'),\n",
       " ('Volkswagen Rabbit', '29.0', '4', '1937.', 'Europe'),\n",
       " ('Volkswagen Rabbit', '29.5', '4', '1825.', 'Europe'),\n",
       " ('Volvo 245', '20.0', '4', '3150.', 'Europe'),\n",
       " ('Peugeot 504', '19.0', '4', '3270.', 'Europe'),\n",
       " ('Mercedes-Benz 280s', '16.5', '6', '3820.', 'Europe'),\n",
       " ('Renault 5 GTL', '36.0', '4', '1825.', 'Europe'),\n",
       " ('Volkswagen Rabbit Custom', '29.0', '4', '1940.', 'Europe'),\n",
       " ('Volkswagen Dasher', '30.5', '4', '2190.', 'Europe'),\n",
       " ('BMW 320i', '21.5', '4', '2600.', 'Europe'),\n",
       " ('Volkswagen Rabbit Custom Diesel', '43.1', '4', '1985.', 'Europe'),\n",
       " ('Audi 5000', '20.3', '5', '2830.', 'Europe'),\n",
       " ('Volvo 264gl', '17.0', '6', '3140.', 'Europe'),\n",
       " ('Saab 99gle', '21.6', '4', '2795.', 'Europe'),\n",
       " ('Peugeot 604sl', '16.2', '6', '3410.', 'Europe'),\n",
       " ('Volkswagen Scirocco', '31.5', '4', '1990.', 'Europe'),\n",
       " ('Volkswagen Rabbit Custom', '31.9', '4', '1925.', 'Europe'),\n",
       " ('Mercedes Benz 300d', '25.4', '5', '3530.', 'Europe'),\n",
       " ('Peugeot 504', '27.2', '4', '3190.', 'Europe'),\n",
       " ('Fiat Strada Custom', '37.3', '4', '2130.', 'Europe'),\n",
       " ('Volkswagen Rabbit', '41.5', '4', '2144.', 'Europe'),\n",
       " ('Audi 4000', '34.3', '4', '2188.', 'Europe'),\n",
       " ('Volkswagen Rabbit C (Diesel)', '44.3', '4', '2085.', 'Europe'),\n",
       " ('Volkswagen Dasher (diesel)', '43.4', '4', '2335.', 'Europe'),\n",
       " ('Audi 5000s (diesel)', '36.4', '5', '2950.', 'Europe'),\n",
       " ('Mercedes-Benz 240d', '30.0', '4', '3250.', 'Europe'),\n",
       " ('Renault Lecar Deluxe', '40.9', '4', '1835.', 'Europe'),\n",
       " ('Volkswagen Rabbit', '29.8', '4', '1845.', 'Europe'),\n",
       " ('Triumph TR7 Coupe', '35.0', '4', '2500.', 'Europe'),\n",
       " ('Volkswagen Jetta', '33.0', '4', '2190.', 'Europe'),\n",
       " ('Renault 18i', '34.5', '4', '2320.', 'Europe'),\n",
       " ('Peugeot 505s Turbo Diesel', '28.1', '4', '3230.', 'Europe'),\n",
       " ('Saab 900s', '0', '4', '2800.', 'Europe'),\n",
       " ('Volvo Diesel', '30.7', '6', '3160.', 'Europe'),\n",
       " ('Volkswagen Rabbit l', '36.0', '4', '1980.', 'Europe'),\n",
       " ('Volkswagen Pickup', '44.0', '4', '2130.', 'Europe')]"
      ]
     },
     "output_type": "unknown"
    }
   ],
   "source": [
    "# Car name is column  0\n",
    "(cars_rest.filter(lambda line: line.split(\";\")[8]=='Europe').\n",
    " map(lambda line: (line.split(\";\")[0],\n",
    "    line.split(\";\")[1],\n",
    "    line.split(\";\")[2],\n",
    "    line.split(\";\")[5],\n",
    "    line.split(\";\")[8])).collect())"
   ]
  },
  {
   "cell_type": "markdown",
   "metadata": {
    "id": "m0yHuQAdcqjD"
   },
   "source": [
    "**Display the Car name, MPG, Cylinders, Weight and Origin for the cars Originating in either Europe or Japan**"
   ]
  },
  {
   "cell_type": "code",
   "execution_count": null,
   "metadata": {
    "colab": {
     "base_uri": "https://localhost:8080/"
    },
    "id": "SktHyjP1cn4d",
    "outputId": "ff00090f-9246-4cad-db7b-caf077c811e4"
   },
   "outputs": [
    {
     "data": {
      "text/plain": [
       "[('Citroen DS-21 Pallas', '0', '4', '3090.', 'Europe'),\n",
       " ('Toyota Corolla Mark ii', '24.0', '4', '2372.', 'Japan'),\n",
       " ('Datsun PL510', '27.0', '4', '2130.', 'Japan'),\n",
       " ('Volkswagen 1131 Deluxe Sedan', '26.0', '4', '1835.', 'Europe'),\n",
       " ('Peugeot 504', '25.0', '4', '2672.', 'Europe'),\n",
       " ('Audi 100 LS', '24.0', '4', '2430.', 'Europe'),\n",
       " ('Saab 99e', '25.0', '4', '2375.', 'Europe'),\n",
       " ('BMW 2002', '26.0', '4', '2234.', 'Europe'),\n",
       " ('Datsun PL510', '27.0', '4', '2130.', 'Japan'),\n",
       " ('Toyota Corolla', '25.0', '4', '2228.', 'Japan'),\n",
       " ('Volkswagen Super Beetle 117', '0', '4', '1978.', 'Europe'),\n",
       " ('Opel 1900', '28.0', '4', '2123.', 'Europe'),\n",
       " ('Peugeot 304', '30.0', '4', '2074.', 'Europe'),\n",
       " ('Fiat 124B', '30.0', '4', '2065.', 'Europe'),\n",
       " ('Toyota Corolla 1200', '31.0', '4', '1773.', 'Japan'),\n",
       " ('Datsun 1200', '35.0', '4', '1613.', 'Japan'),\n",
       " ('Volkswagen Model 111', '27.0', '4', '1834.', 'Europe'),\n",
       " ('Toyota Corolla Hardtop', '24.0', '4', '2278.', 'Japan'),\n",
       " ('Volkswagen Type 3', '23.0', '4', '2254.', 'Europe'),\n",
       " ('Mazda RX2 Coupe', '19.0', '3', '2330.', 'Japan'),\n",
       " ('Volvo 145e (sw)', '18.0', '4', '2933.', 'Europe'),\n",
       " ('Volkswagen 411 (sw)', '22.0', '4', '2511.', 'Europe'),\n",
       " ('Peugeot 504 (sw)', '21.0', '4', '2979.', 'Europe'),\n",
       " ('Renault 12 (sw)', '26.0', '4', '2189.', 'Europe'),\n",
       " ('Datsun 510 (sw)', '28.0', '4', '2288.', 'Japan'),\n",
       " ('Toyota Corolla Mark II (sw)', '23.0', '4', '2506.', 'Japan'),\n",
       " ('Toyota Corolla 1600 (sw)', '27.0', '4', '2100.', 'Japan'),\n",
       " ('Volkswagen Super Beetle', '26.0', '4', '1950.', 'Europe'),\n",
       " ('Toyota Camry', '20.0', '4', '2279.', 'Japan'),\n",
       " ('Datsun 610', '22.0', '4', '2379.', 'Japan'),\n",
       " ('Mazda RX3', '18.0', '3', '2124.', 'Japan'),\n",
       " ('Fiat 124 Sport Coupe', '26.0', '4', '2265.', 'Europe'),\n",
       " ('Fiat 128', '29.0', '4', '1867.', 'Europe'),\n",
       " ('Opel Manta', '24.0', '4', '2158.', 'Europe'),\n",
       " ('Audi 100LS', '20.0', '4', '2582.', 'Europe'),\n",
       " ('Volvo 144ea', '19.0', '4', '2868.', 'Europe'),\n",
       " ('Saab 99le', '24.0', '4', '2660.', 'Europe'),\n",
       " ('Toyota Mark II', '20.0', '6', '2807.', 'Japan'),\n",
       " ('Datsun B210', '31.0', '4', '1950.', 'Japan'),\n",
       " ('Toyota Corolla 1200', '32.0', '4', '1836.', 'Japan'),\n",
       " ('Audi Fox', '29.0', '4', '2219.', 'Europe'),\n",
       " ('Volkswagen Dasher', '26.0', '4', '1963.', 'Europe'),\n",
       " ('Opel Manta', '26.0', '4', '2300.', 'Europe'),\n",
       " ('Toyota Corolla', '31.0', '4', '1649.', 'Japan'),\n",
       " ('Datsun 710', '32.0', '4', '2003.', 'Japan'),\n",
       " ('Fiat 128', '24.0', '4', '2108.', 'Europe'),\n",
       " ('Fiat 124 TC', '26.0', '4', '2246.', 'Europe'),\n",
       " ('Honda Civic', '24.0', '4', '2489.', 'Japan'),\n",
       " ('Subaru', '26.0', '4', '2391.', 'Japan'),\n",
       " ('Fiat x1.9', '31.0', '4', '2000.', 'Europe'),\n",
       " ('Toyota Corolla', '29.0', '4', '2171.', 'Japan'),\n",
       " ('Toyota Corolla', '24.0', '4', '2702.', 'Japan'),\n",
       " ('Volkswagen Dasher', '25.0', '4', '2223.', 'Europe'),\n",
       " ('Datsun 710', '24.0', '4', '2545.', 'Japan'),\n",
       " ('Volkswagen Rabbit', '29.0', '4', '1937.', 'Europe'),\n",
       " ('Audi 100LS', '23.0', '4', '2694.', 'Europe'),\n",
       " ('Peugeot 504', '23.0', '4', '2957.', 'Europe'),\n",
       " ('Volvo 244DL', '22.0', '4', '2945.', 'Europe'),\n",
       " ('Saab 99LE', '25.0', '4', '2671.', 'Europe'),\n",
       " ('Honda Civic CVCC', '33.0', '4', '1795.', 'Japan'),\n",
       " ('Fiat 131', '28.0', '4', '2464.', 'Europe'),\n",
       " ('Opel 1900', '25.0', '4', '2220.', 'Europe'),\n",
       " ('Renault 12tl', '27.0', '4', '2202.', 'Europe'),\n",
       " ('Volkswagen Rabbit', '29.0', '4', '1937.', 'Europe'),\n",
       " ('Honda Civic', '33.0', '4', '1795.', 'Japan'),\n",
       " ('Volkswagen Rabbit', '29.5', '4', '1825.', 'Europe'),\n",
       " ('Datsun B-210', '32.0', '4', '1990.', 'Japan'),\n",
       " ('Toyota Corolla', '28.0', '4', '2155.', 'Japan'),\n",
       " ('Volvo 245', '20.0', '4', '3150.', 'Europe'),\n",
       " ('Peugeot 504', '19.0', '4', '3270.', 'Europe'),\n",
       " ('Toyota Mark II', '19.0', '6', '2930.', 'Japan'),\n",
       " ('Mercedes-Benz 280s', '16.5', '6', '3820.', 'Europe'),\n",
       " ('Honda Accord CVCC', '31.5', '4', '2045.', 'Japan'),\n",
       " ('Renault 5 GTL', '36.0', '4', '1825.', 'Europe'),\n",
       " ('Datsun F-10 Hatchback', '33.5', '4', '1945.', 'Japan'),\n",
       " ('Volkswagen Rabbit Custom', '29.0', '4', '1940.', 'Europe'),\n",
       " ('Toyota Corolla Liftback', '26.0', '4', '2265.', 'Japan'),\n",
       " ('Subaru DL', '30.0', '4', '1985.', 'Japan'),\n",
       " ('Volkswagen Dasher', '30.5', '4', '2190.', 'Europe'),\n",
       " ('Datsun 810', '22.0', '6', '2815.', 'Japan'),\n",
       " ('BMW 320i', '21.5', '4', '2600.', 'Europe'),\n",
       " ('Mazda RX-4', '21.5', '3', '2720.', 'Japan'),\n",
       " ('Volkswagen Rabbit Custom Diesel', '43.1', '4', '1985.', 'Europe'),\n",
       " ('Mazda GLC Deluxe', '32.8', '4', '1985.', 'Japan'),\n",
       " ('Datsun B210 GX', '39.4', '4', '2070.', 'Japan'),\n",
       " ('Honda Civic CVCC', '36.1', '4', '1800.', 'Japan'),\n",
       " ('Toyota Corolla', '27.5', '4', '2560.', 'Japan'),\n",
       " ('Datsun 510', '27.2', '4', '2300.', 'Japan'),\n",
       " ('Toyota Celica GT Liftback', '21.1', '4', '2515.', 'Japan'),\n",
       " ('Datsun 200-SX', '23.9', '4', '2405.', 'Japan'),\n",
       " ('Audi 5000', '20.3', '5', '2830.', 'Europe'),\n",
       " ('Volvo 264gl', '17.0', '6', '3140.', 'Europe'),\n",
       " ('Saab 99gle', '21.6', '4', '2795.', 'Europe'),\n",
       " ('Peugeot 604sl', '16.2', '6', '3410.', 'Europe'),\n",
       " ('Volkswagen Scirocco', '31.5', '4', '1990.', 'Europe'),\n",
       " ('Honda Accord LX', '29.5', '4', '2135.', 'Japan'),\n",
       " ('Volkswagen Rabbit Custom', '31.9', '4', '1925.', 'Europe'),\n",
       " ('Mazda GLC Deluxe', '34.1', '4', '1975.', 'Japan'),\n",
       " ('Mercedes Benz 300d', '25.4', '5', '3530.', 'Europe'),\n",
       " ('Peugeot 504', '27.2', '4', '3190.', 'Europe'),\n",
       " ('Datsun 210', '31.8', '4', '2020.', 'Japan'),\n",
       " ('Fiat Strada Custom', '37.3', '4', '2130.', 'Europe'),\n",
       " ('Volkswagen Rabbit', '41.5', '4', '2144.', 'Europe'),\n",
       " ('Toyota Corolla Tercel', '38.1', '4', '1968.', 'Japan'),\n",
       " ('Datsun 310', '37.2', '4', '2019.', 'Japan'),\n",
       " ('Audi 4000', '34.3', '4', '2188.', 'Europe'),\n",
       " ('Toyota Corolla Liftback', '29.8', '4', '2711.', 'Japan'),\n",
       " ('Mazda 626', '31.3', '4', '2542.', 'Japan'),\n",
       " ('Datsun 510 Hatchback', '37.0', '4', '2434.', 'Japan'),\n",
       " ('Toyota Corolla', '32.2', '4', '2265.', 'Japan'),\n",
       " ('Mazda GLC', '46.6', '4', '2110.', 'Japan'),\n",
       " ('Datsun 210', '40.8', '4', '2110.', 'Japan'),\n",
       " ('Volkswagen Rabbit C (Diesel)', '44.3', '4', '2085.', 'Europe'),\n",
       " ('Volkswagen Dasher (diesel)', '43.4', '4', '2335.', 'Europe'),\n",
       " ('Audi 5000s (diesel)', '36.4', '5', '2950.', 'Europe'),\n",
       " ('Mercedes-Benz 240d', '30.0', '4', '3250.', 'Europe'),\n",
       " ('Honda Civic 1500 gl', '44.6', '4', '1850.', 'Japan'),\n",
       " ('Renault Lecar Deluxe', '40.9', '4', '1835.', 'Europe'),\n",
       " ('Subaru DL', '33.8', '4', '2145.', 'Japan'),\n",
       " ('Volkswagen Rabbit', '29.8', '4', '1845.', 'Europe'),\n",
       " ('Datsun 280-ZX', '32.7', '6', '2910.', 'Japan'),\n",
       " ('Mazda RX-7 GS', '23.7', '3', '2420.', 'Japan'),\n",
       " ('Triumph TR7 Coupe', '35.0', '4', '2500.', 'Europe'),\n",
       " ('Honda Accord', '32.4', '4', '2290.', 'Japan'),\n",
       " ('Toyota Starlet', '39.1', '4', '1755.', 'Japan'),\n",
       " ('Honda Civic 1300', '35.1', '4', '1760.', 'Japan'),\n",
       " ('Subaru', '32.3', '4', '2065.', 'Japan'),\n",
       " ('Datsun 210 MPG', '37.0', '4', '1975.', 'Japan'),\n",
       " ('Toyota Tercel', '37.7', '4', '2050.', 'Japan'),\n",
       " ('Mazda GLC 4', '34.1', '4', '1985.', 'Japan'),\n",
       " ('Volkswagen Jetta', '33.0', '4', '2190.', 'Europe'),\n",
       " ('Renault 18i', '34.5', '4', '2320.', 'Europe'),\n",
       " ('Honda Prelude', '33.7', '4', '2210.', 'Japan'),\n",
       " ('Toyota Corolla', '32.4', '4', '2350.', 'Japan'),\n",
       " ('Datsun 200SX', '32.9', '4', '2615.', 'Japan'),\n",
       " ('Mazda 626', '31.6', '4', '2635.', 'Japan'),\n",
       " ('Peugeot 505s Turbo Diesel', '28.1', '4', '3230.', 'Europe'),\n",
       " ('Saab 900s', '0', '4', '2800.', 'Europe'),\n",
       " ('Volvo Diesel', '30.7', '6', '3160.', 'Europe'),\n",
       " ('Toyota Cressida', '25.4', '6', '2900.', 'Japan'),\n",
       " ('Datsun 810 Maxima', '24.2', '6', '2930.', 'Japan'),\n",
       " ('Volkswagen Rabbit l', '36.0', '4', '1980.', 'Europe'),\n",
       " ('Mazda GLC Custom l', '37.0', '4', '2025.', 'Japan'),\n",
       " ('Mazda GLC Custom', '31.0', '4', '1970.', 'Japan'),\n",
       " ('Nissan Stanza XE', '36.0', '4', '2160.', 'Japan'),\n",
       " ('Honda Accord', '36.0', '4', '2205.', 'Japan'),\n",
       " ('Toyota Corolla', '34.0', '4', '2245', 'Japan'),\n",
       " ('Honda Civic', '38.0', '4', '1965.', 'Japan'),\n",
       " ('Honda Civic (auto)', '32.0', '4', '1965.', 'Japan'),\n",
       " ('Datsun 310 GX', '38.0', '4', '1995.', 'Japan'),\n",
       " ('Toyota Celica GT', '32.0', '4', '2665.', 'Japan'),\n",
       " ('Volkswagen Pickup', '44.0', '4', '2130.', 'Europe')]"
      ]
     },
     "output_type": "unknown"
    }
   ],
   "source": [
    "# Car name is column  0\n",
    "(cars_rest.filter(lambda line: line.split(\";\")[8] in ['Europe','Japan']).\n",
    " map(lambda line: (line.split(\";\")[0],\n",
    "    line.split(\";\")[1],\n",
    "    line.split(\";\")[2],\n",
    "    line.split(\";\")[5],\n",
    "    line.split(\";\")[8])).collect())"
   ]
  },
  {
   "cell_type": "markdown",
   "metadata": {
    "id": "CxwT0N3WdHhO"
   },
   "source": [
    "You can create custom user-defined function in spark. You can learn that at: https://docs.databricks.com/spark/latest/spark-sql/udf-python.html"
   ]
  },
  {
   "cell_type": "markdown",
   "metadata": {
    "id": "wyyDZSCMdnkh"
   },
   "source": [
    "###Submitting a Spark Job\n",
    "The python syntax for running jobs is: python <file_name>.py <arg1> <arg2> ...\n",
    "But when you submit a spark job you have to use spark-submit to run the application.\n",
    "\n",
    "Here is a simple example of a spark-submit command: spark-submit filename.py --named_argument 'arguemnt value'\n",
    "Here, named_argument is an argument that you are reading from inside your script.\n",
    "\n",
    "There are other options you can pass in the command, like:\n",
    "* --py-files which helps you pass a python file to read in your file,\n",
    "--files which helps pass other files like txt or config,\n",
    "--deploy-mode which tells wether to deploy your worker node on cluster or locally\n",
    "--conf which helps pass different configurations, like memoryOverhead, dynamicAllocation etc.\n",
    "\n",
    "There is an entire page in spark documentation dedicated to this. I highly recommend you go through https://spark.apache.org/docs/latest/submitting-applications.html"
   ]
  },
  {
   "cell_type": "markdown",
   "metadata": {
    "id": "M8GDddsUd1qR"
   },
   "source": [
    "###Creating Dataframes\n",
    "When getting started with dataframes, the most common question is: 'How do I create a dataframe?'\n",
    "Below, you can see how to create three kinds of dataframes:"
   ]
  },
  {
   "cell_type": "markdown",
   "metadata": {
    "id": "tBO63VwAd8Ws"
   },
   "source": [
    "**Create a totally empty dataframe**"
   ]
  },
  {
   "cell_type": "code",
   "execution_count": null,
   "metadata": {
    "colab": {
     "base_uri": "https://localhost:8080/"
    },
    "id": "nfnPZKUvctef",
    "outputId": "2ca7fca5-064b-41a2-b57a-bae7889bbc72"
   },
   "outputs": [
    {
     "data": {
      "application/vnd.code.notebook.stdout": [
       "++\n",
       "||\n",
       "++\n",
       "++\n",
       "\n"
      ]
     },
     "output_type": "unknown"
    }
   ],
   "source": [
    "from pyspark.sql.types import StructType\n",
    "sc = spark.sparkContext\n",
    "#Create empty df\n",
    "schema = StructType([])\n",
    "empty = spark.createDataFrame(sc.emptyRDD(), schema)\n",
    "empty.show()"
   ]
  },
  {
   "cell_type": "markdown",
   "metadata": {
    "id": "GStNotEDeCRK"
   },
   "source": [
    "Create an empty dataframe with header"
   ]
  },
  {
   "cell_type": "code",
   "execution_count": null,
   "metadata": {
    "colab": {
     "base_uri": "https://localhost:8080/"
    },
    "id": "UamOP3p1d_2D",
    "outputId": "8c890a0f-e6d4-4094-c84b-b56abbe572cd"
   },
   "outputs": [
    {
     "data": {
      "application/vnd.code.notebook.stdout": [
       "+----+\n",
       "|name|\n",
       "+----+\n",
       "+----+\n",
       "\n"
      ]
     },
     "output_type": "unknown"
    }
   ],
   "source": [
    "from pyspark.sql.types import StructType, StructField\n",
    "#Create empty df with header\n",
    "schema_header = StructType([StructField(\"name\", StringType(), True)])\n",
    "empty_with_header = spark.createDataFrame(sc.emptyRDD(), schema_header)\n",
    "empty_with_header.show()"
   ]
  },
  {
   "cell_type": "markdown",
   "metadata": {
    "id": "dhLmjr0FeJcq"
   },
   "source": [
    "Create a dataframe with header and data"
   ]
  },
  {
   "cell_type": "code",
   "execution_count": null,
   "metadata": {
    "colab": {
     "base_uri": "https://localhost:8080/"
    },
    "id": "KNGhpkJveGO0",
    "outputId": "77864db0-7816-4dbf-df3a-cb25d4abac93"
   },
   "outputs": [
    {
     "data": {
      "application/vnd.code.notebook.stdout": [
       "+-----+---+\n",
       "| name|age|\n",
       "+-----+---+\n",
       "|Alice| 13|\n",
       "|Jacob| 24|\n",
       "|Betty|135|\n",
       "+-----+---+\n",
       "\n"
      ]
     },
     "output_type": "unknown"
    }
   ],
   "source": [
    "from pyspark.sql import Row\n",
    "mylist = [\n",
    "  {\"name\":'Alice',\"age\":13},\n",
    "  {\"name\":'Jacob',\"age\":24},\n",
    "  {\"name\":'Betty',\"age\":135},\n",
    "]\n",
    "spark.createDataFrame(Row(**x) for x in mylist).show()"
   ]
  },
  {
   "cell_type": "code",
   "execution_count": null,
   "metadata": {
    "colab": {
     "base_uri": "https://localhost:8080/"
    },
    "id": "sj31H2nqeMdX",
    "outputId": "e48bb52e-66f7-4dcb-c6fa-d02ff372ca47"
   },
   "outputs": [
    {
     "data": {
      "application/vnd.code.notebook.stdout": [
       "+-----+---+\n",
       "| name|age|\n",
       "+-----+---+\n",
       "|Alice| 13|\n",
       "|Jacob| 24|\n",
       "|Betty|135|\n",
       "+-----+---+\n",
       "\n"
      ]
     },
     "output_type": "unknown"
    }
   ],
   "source": [
    "# You can achieve the same using this - note that we are using spark context here, not a spark session\n",
    "from pyspark.sql import Row\n",
    "df = sc.parallelize([\n",
    "        Row(name='Alice', age=13),\n",
    "        Row(name='Jacob', age=24),\n",
    "        Row(name='Betty', age=135)]).toDF()\n",
    "df.show()"
   ]
  },
  {
   "cell_type": "markdown",
   "metadata": {
    "id": "NYM93GSJeR1Q"
   },
   "source": [
    "Drop Duplicates\n",
    "As mentioned earlier, there are two easy to remove duplicates from a dataframe. We have already seen the usage of distinct under Get Distinct Rows section. I will expalin how to use the dropDuplicates() function to achieve the same.\n",
    "\n",
    "`drop_duplicates() is an alias for dropDuplicates()`"
   ]
  },
  {
   "cell_type": "code",
   "execution_count": null,
   "metadata": {
    "colab": {
     "base_uri": "https://localhost:8080/"
    },
    "id": "W2d98pG8ePFd",
    "outputId": "c7719303-dc11-4c12-acec-0bdca0e81957"
   },
   "outputs": [
    {
     "data": {
      "application/vnd.code.notebook.stdout": [
       "+-----+---+------+\n",
       "| name|age|height|\n",
       "+-----+---+------+\n",
       "|Alice|  5|    80|\n",
       "|Jacob| 24|    80|\n",
       "+-----+---+------+\n",
       "\n"
      ]
     },
     "output_type": "unknown"
    }
   ],
   "source": [
    "from pyspark.sql import Row\n",
    "from pyspark.sql import Row\n",
    "mylist = [\n",
    "  {\"name\":'Alice',\"age\":5,\"height\":80},\n",
    "  {\"name\":'Jacob',\"age\":24,\"height\":80},\n",
    "  {\"name\":'Alice',\"age\":5,\"height\":80}\n",
    "]\n",
    "df = spark.createDataFrame(Row(**x) for x in mylist)\n",
    "df.dropDuplicates().show()"
   ]
  },
  {
   "cell_type": "markdown",
   "metadata": {
    "id": "OG4WiX-febLb"
   },
   "source": [
    "dropDuplicates() can also take in an optional parameter called subset which helps specify the columns on which the duplicate check needs to be done on."
   ]
  },
  {
   "cell_type": "code",
   "execution_count": null,
   "metadata": {
    "colab": {
     "base_uri": "https://localhost:8080/"
    },
    "id": "Vdz-Ptg8eXSe",
    "outputId": "568af529-2c56-443a-999d-27cf763d9a9e"
   },
   "outputs": [
    {
     "data": {
      "application/vnd.code.notebook.stdout": [
       "+-----+---+------+\n",
       "| name|age|height|\n",
       "+-----+---+------+\n",
       "|Alice|  5|    80|\n",
       "+-----+---+------+\n",
       "\n"
      ]
     },
     "output_type": "unknown"
    }
   ],
   "source": [
    "df.dropDuplicates(subset=['height']).show()"
   ]
  },
  {
   "cell_type": "code",
   "execution_count": null,
   "metadata": {
    "id": "eKm-VVZeeeVt"
   },
   "outputs": [],
   "source": []
  },
  {
   "cell_type": "code",
   "execution_count": null,
   "metadata": {
    "id": "WvStTrzXeEaM"
   },
   "outputs": [],
   "source": []
  }
 ],
 "metadata": {
  "interpreter": {
   "hash": "344443636c3027c5042750c9c609acdda283a9c43681b128a8c1053e7ad2aa7d"
  },
  "kernelspec": {
   "display_name": "Python 3.9.7 64-bit ('base': conda)",
   "name": "python3"
  },
  "language_info": {
   "name": "python",
   "version": ""
  },
  "orig_nbformat": 4
 },
 "nbformat": 4,
 "nbformat_minor": 2
}